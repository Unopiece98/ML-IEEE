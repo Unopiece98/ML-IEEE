{
  "nbformat": 4,
  "nbformat_minor": 0,
  "metadata": {
    "kernelspec": {
      "display_name": "Python 3",
      "language": "python",
      "name": "python3"
    },
    "language_info": {
      "codemirror_mode": {
        "name": "ipython",
        "version": 3
      },
      "file_extension": ".py",
      "mimetype": "text/x-python",
      "name": "python",
      "nbconvert_exporter": "python",
      "pygments_lexer": "ipython3",
      "version": "3.6.5"
    },
    "colab": {
      "name": "ML_Workshop_IEEE_SFIT.ipynb",
      "provenance": []
    }
  },
  "cells": [
    {
      "cell_type": "markdown",
      "metadata": {
        "id": "gLzpHbap4vhW",
        "colab_type": "text"
      },
      "source": [
        "# Machine Learning Workshop\n",
        "\n",
        "### IEEE SFIT, Jan 2019\n",
        "\n",
        "\n",
        "### **Instructor**: Santosh Chapaneri"
      ]
    },
    {
      "cell_type": "markdown",
      "metadata": {
        "id": "UPgDF2hj4vhi",
        "colab_type": "text"
      },
      "source": [
        "# Logistic Regression: Predicting who will survive on the Titanic "
      ]
    },
    {
      "cell_type": "code",
      "metadata": {
        "id": "G4oyRHPb4vho",
        "colab_type": "code",
        "colab": {}
      },
      "source": [
        ""
      ],
      "execution_count": 0,
      "outputs": []
    },
    {
      "cell_type": "code",
      "metadata": {
        "id": "Ffi66aSL4viD",
        "colab_type": "code",
        "colab": {}
      },
      "source": [
        "import numpy as np\n",
        "import pandas as pd\n",
        "import sklearn\n",
        "import sklearn.linear_model as lm\n",
        "import sklearn.model_selection as cv\n",
        "import matplotlib.pyplot as plt\n",
        "%matplotlib inline"
      ],
      "execution_count": 0,
      "outputs": []
    },
    {
      "cell_type": "code",
      "metadata": {
        "id": "uj6RjSj44via",
        "colab_type": "code",
        "colab": {},
        "outputId": "ccb5c8cd-239d-44b9-ad04-d5e0287fc8f4"
      },
      "source": [
        "# Load the dataset with Pandas\n",
        "train = pd.read_csv('Data/titanic.csv')\n",
        "train.tail(8)                                                      "
      ],
      "execution_count": 0,
      "outputs": [
        {
          "output_type": "execute_result",
          "data": {
            "text/html": [
              "<div>\n",
              "<style scoped>\n",
              "    .dataframe tbody tr th:only-of-type {\n",
              "        vertical-align: middle;\n",
              "    }\n",
              "\n",
              "    .dataframe tbody tr th {\n",
              "        vertical-align: top;\n",
              "    }\n",
              "\n",
              "    .dataframe thead th {\n",
              "        text-align: right;\n",
              "    }\n",
              "</style>\n",
              "<table border=\"1\" class=\"dataframe\">\n",
              "  <thead>\n",
              "    <tr style=\"text-align: right;\">\n",
              "      <th></th>\n",
              "      <th>PassengerId</th>\n",
              "      <th>Survived</th>\n",
              "      <th>Pclass</th>\n",
              "      <th>Name</th>\n",
              "      <th>Sex</th>\n",
              "      <th>Age</th>\n",
              "      <th>SibSp</th>\n",
              "      <th>Parch</th>\n",
              "      <th>Ticket</th>\n",
              "      <th>Fare</th>\n",
              "      <th>Cabin</th>\n",
              "      <th>Embarked</th>\n",
              "    </tr>\n",
              "  </thead>\n",
              "  <tbody>\n",
              "    <tr>\n",
              "      <th>883</th>\n",
              "      <td>884</td>\n",
              "      <td>0</td>\n",
              "      <td>2</td>\n",
              "      <td>Banfield, Mr. Frederick James</td>\n",
              "      <td>male</td>\n",
              "      <td>28.0</td>\n",
              "      <td>0</td>\n",
              "      <td>0</td>\n",
              "      <td>C.A./SOTON 34068</td>\n",
              "      <td>10.500</td>\n",
              "      <td>NaN</td>\n",
              "      <td>S</td>\n",
              "    </tr>\n",
              "    <tr>\n",
              "      <th>884</th>\n",
              "      <td>885</td>\n",
              "      <td>0</td>\n",
              "      <td>3</td>\n",
              "      <td>Sutehall, Mr. Henry Jr</td>\n",
              "      <td>male</td>\n",
              "      <td>25.0</td>\n",
              "      <td>0</td>\n",
              "      <td>0</td>\n",
              "      <td>SOTON/OQ 392076</td>\n",
              "      <td>7.050</td>\n",
              "      <td>NaN</td>\n",
              "      <td>S</td>\n",
              "    </tr>\n",
              "    <tr>\n",
              "      <th>885</th>\n",
              "      <td>886</td>\n",
              "      <td>0</td>\n",
              "      <td>3</td>\n",
              "      <td>Rice, Mrs. William (Margaret Norton)</td>\n",
              "      <td>female</td>\n",
              "      <td>39.0</td>\n",
              "      <td>0</td>\n",
              "      <td>5</td>\n",
              "      <td>382652</td>\n",
              "      <td>29.125</td>\n",
              "      <td>NaN</td>\n",
              "      <td>Q</td>\n",
              "    </tr>\n",
              "    <tr>\n",
              "      <th>886</th>\n",
              "      <td>887</td>\n",
              "      <td>0</td>\n",
              "      <td>2</td>\n",
              "      <td>Montvila, Rev. Juozas</td>\n",
              "      <td>male</td>\n",
              "      <td>27.0</td>\n",
              "      <td>0</td>\n",
              "      <td>0</td>\n",
              "      <td>211536</td>\n",
              "      <td>13.000</td>\n",
              "      <td>NaN</td>\n",
              "      <td>S</td>\n",
              "    </tr>\n",
              "    <tr>\n",
              "      <th>887</th>\n",
              "      <td>888</td>\n",
              "      <td>1</td>\n",
              "      <td>1</td>\n",
              "      <td>Graham, Miss. Margaret Edith</td>\n",
              "      <td>female</td>\n",
              "      <td>19.0</td>\n",
              "      <td>0</td>\n",
              "      <td>0</td>\n",
              "      <td>112053</td>\n",
              "      <td>30.000</td>\n",
              "      <td>B42</td>\n",
              "      <td>S</td>\n",
              "    </tr>\n",
              "    <tr>\n",
              "      <th>888</th>\n",
              "      <td>889</td>\n",
              "      <td>0</td>\n",
              "      <td>3</td>\n",
              "      <td>Johnston, Miss. Catherine Helen \"Carrie\"</td>\n",
              "      <td>female</td>\n",
              "      <td>NaN</td>\n",
              "      <td>1</td>\n",
              "      <td>2</td>\n",
              "      <td>W./C. 6607</td>\n",
              "      <td>23.450</td>\n",
              "      <td>NaN</td>\n",
              "      <td>S</td>\n",
              "    </tr>\n",
              "    <tr>\n",
              "      <th>889</th>\n",
              "      <td>890</td>\n",
              "      <td>1</td>\n",
              "      <td>1</td>\n",
              "      <td>Behr, Mr. Karl Howell</td>\n",
              "      <td>male</td>\n",
              "      <td>26.0</td>\n",
              "      <td>0</td>\n",
              "      <td>0</td>\n",
              "      <td>111369</td>\n",
              "      <td>30.000</td>\n",
              "      <td>C148</td>\n",
              "      <td>C</td>\n",
              "    </tr>\n",
              "    <tr>\n",
              "      <th>890</th>\n",
              "      <td>891</td>\n",
              "      <td>0</td>\n",
              "      <td>3</td>\n",
              "      <td>Dooley, Mr. Patrick</td>\n",
              "      <td>male</td>\n",
              "      <td>32.0</td>\n",
              "      <td>0</td>\n",
              "      <td>0</td>\n",
              "      <td>370376</td>\n",
              "      <td>7.750</td>\n",
              "      <td>NaN</td>\n",
              "      <td>Q</td>\n",
              "    </tr>\n",
              "  </tbody>\n",
              "</table>\n",
              "</div>"
            ],
            "text/plain": [
              "     PassengerId  Survived  Pclass                                      Name  \\\n",
              "883          884         0       2             Banfield, Mr. Frederick James   \n",
              "884          885         0       3                    Sutehall, Mr. Henry Jr   \n",
              "885          886         0       3      Rice, Mrs. William (Margaret Norton)   \n",
              "886          887         0       2                     Montvila, Rev. Juozas   \n",
              "887          888         1       1              Graham, Miss. Margaret Edith   \n",
              "888          889         0       3  Johnston, Miss. Catherine Helen \"Carrie\"   \n",
              "889          890         1       1                     Behr, Mr. Karl Howell   \n",
              "890          891         0       3                       Dooley, Mr. Patrick   \n",
              "\n",
              "        Sex   Age  SibSp  Parch            Ticket    Fare Cabin Embarked  \n",
              "883    male  28.0      0      0  C.A./SOTON 34068  10.500   NaN        S  \n",
              "884    male  25.0      0      0   SOTON/OQ 392076   7.050   NaN        S  \n",
              "885  female  39.0      0      5            382652  29.125   NaN        Q  \n",
              "886    male  27.0      0      0            211536  13.000   NaN        S  \n",
              "887  female  19.0      0      0            112053  30.000   B42        S  \n",
              "888  female   NaN      1      2        W./C. 6607  23.450   NaN        S  \n",
              "889    male  26.0      0      0            111369  30.000  C148        C  \n",
              "890    male  32.0      0      0            370376   7.750   NaN        Q  "
            ]
          },
          "metadata": {
            "tags": []
          },
          "execution_count": 5
        }
      ]
    },
    {
      "cell_type": "code",
      "metadata": {
        "id": "-HbBbhvs4viw",
        "colab_type": "code",
        "colab": {},
        "outputId": "ce2daf56-1587-4642-e859-d579f41380fd"
      },
      "source": [
        "#Observe columns Pclass, Sex, Age, Survived \n",
        "train[train.columns[[2,4,5,1]]].head()                            "
      ],
      "execution_count": 0,
      "outputs": [
        {
          "output_type": "execute_result",
          "data": {
            "text/html": [
              "<div>\n",
              "<style scoped>\n",
              "    .dataframe tbody tr th:only-of-type {\n",
              "        vertical-align: middle;\n",
              "    }\n",
              "\n",
              "    .dataframe tbody tr th {\n",
              "        vertical-align: top;\n",
              "    }\n",
              "\n",
              "    .dataframe thead th {\n",
              "        text-align: right;\n",
              "    }\n",
              "</style>\n",
              "<table border=\"1\" class=\"dataframe\">\n",
              "  <thead>\n",
              "    <tr style=\"text-align: right;\">\n",
              "      <th></th>\n",
              "      <th>Pclass</th>\n",
              "      <th>Sex</th>\n",
              "      <th>Age</th>\n",
              "      <th>Survived</th>\n",
              "    </tr>\n",
              "  </thead>\n",
              "  <tbody>\n",
              "    <tr>\n",
              "      <th>0</th>\n",
              "      <td>3</td>\n",
              "      <td>male</td>\n",
              "      <td>22.0</td>\n",
              "      <td>0</td>\n",
              "    </tr>\n",
              "    <tr>\n",
              "      <th>1</th>\n",
              "      <td>1</td>\n",
              "      <td>female</td>\n",
              "      <td>38.0</td>\n",
              "      <td>1</td>\n",
              "    </tr>\n",
              "    <tr>\n",
              "      <th>2</th>\n",
              "      <td>3</td>\n",
              "      <td>female</td>\n",
              "      <td>26.0</td>\n",
              "      <td>1</td>\n",
              "    </tr>\n",
              "    <tr>\n",
              "      <th>3</th>\n",
              "      <td>1</td>\n",
              "      <td>female</td>\n",
              "      <td>35.0</td>\n",
              "      <td>1</td>\n",
              "    </tr>\n",
              "    <tr>\n",
              "      <th>4</th>\n",
              "      <td>3</td>\n",
              "      <td>male</td>\n",
              "      <td>35.0</td>\n",
              "      <td>0</td>\n",
              "    </tr>\n",
              "  </tbody>\n",
              "</table>\n",
              "</div>"
            ],
            "text/plain": [
              "   Pclass     Sex   Age  Survived\n",
              "0       3    male  22.0         0\n",
              "1       1  female  38.0         1\n",
              "2       3  female  26.0         1\n",
              "3       1  female  35.0         1\n",
              "4       3    male  35.0         0"
            ]
          },
          "metadata": {
            "tags": []
          },
          "execution_count": 6
        }
      ]
    },
    {
      "cell_type": "code",
      "metadata": {
        "id": "46sxPE6V4vjI",
        "colab_type": "code",
        "colab": {},
        "outputId": "b5ff8639-71f5-4ec8-8a55-d39006ea0991"
      },
      "source": [
        "data = train[['Sex', 'Age', 'Pclass', 'Survived']].copy()\n",
        "data['Sex'] = data['Sex'] == 'female'                                        \n",
        "data = data.dropna()                                                         \n",
        "data.head()                                                                  "
      ],
      "execution_count": 0,
      "outputs": [
        {
          "output_type": "execute_result",
          "data": {
            "text/html": [
              "<div>\n",
              "<style scoped>\n",
              "    .dataframe tbody tr th:only-of-type {\n",
              "        vertical-align: middle;\n",
              "    }\n",
              "\n",
              "    .dataframe tbody tr th {\n",
              "        vertical-align: top;\n",
              "    }\n",
              "\n",
              "    .dataframe thead th {\n",
              "        text-align: right;\n",
              "    }\n",
              "</style>\n",
              "<table border=\"1\" class=\"dataframe\">\n",
              "  <thead>\n",
              "    <tr style=\"text-align: right;\">\n",
              "      <th></th>\n",
              "      <th>Sex</th>\n",
              "      <th>Age</th>\n",
              "      <th>Pclass</th>\n",
              "      <th>Survived</th>\n",
              "    </tr>\n",
              "  </thead>\n",
              "  <tbody>\n",
              "    <tr>\n",
              "      <th>0</th>\n",
              "      <td>False</td>\n",
              "      <td>22.0</td>\n",
              "      <td>3</td>\n",
              "      <td>0</td>\n",
              "    </tr>\n",
              "    <tr>\n",
              "      <th>1</th>\n",
              "      <td>True</td>\n",
              "      <td>38.0</td>\n",
              "      <td>1</td>\n",
              "      <td>1</td>\n",
              "    </tr>\n",
              "    <tr>\n",
              "      <th>2</th>\n",
              "      <td>True</td>\n",
              "      <td>26.0</td>\n",
              "      <td>3</td>\n",
              "      <td>1</td>\n",
              "    </tr>\n",
              "    <tr>\n",
              "      <th>3</th>\n",
              "      <td>True</td>\n",
              "      <td>35.0</td>\n",
              "      <td>1</td>\n",
              "      <td>1</td>\n",
              "    </tr>\n",
              "    <tr>\n",
              "      <th>4</th>\n",
              "      <td>False</td>\n",
              "      <td>35.0</td>\n",
              "      <td>3</td>\n",
              "      <td>0</td>\n",
              "    </tr>\n",
              "  </tbody>\n",
              "</table>\n",
              "</div>"
            ],
            "text/plain": [
              "     Sex   Age  Pclass  Survived\n",
              "0  False  22.0       3         0\n",
              "1   True  38.0       1         1\n",
              "2   True  26.0       3         1\n",
              "3   True  35.0       1         1\n",
              "4  False  35.0       3         0"
            ]
          },
          "metadata": {
            "tags": []
          },
          "execution_count": 7
        }
      ]
    },
    {
      "cell_type": "code",
      "metadata": {
        "id": "7_1VdKj14vjf",
        "colab_type": "code",
        "colab": {},
        "outputId": "7ea66b30-e096-4712-e7c7-5829425ca4e0"
      },
      "source": [
        "data_np = data.astype(np.int32).values                                         \n",
        "X = data_np[:,:-1]                                               \n",
        "y = data_np[:,-1] \n",
        "print(X[:5,:])\n",
        "print(y[:5])"
      ],
      "execution_count": 0,
      "outputs": [
        {
          "output_type": "stream",
          "text": [
            "[[ 0 22  3]\n",
            " [ 1 38  1]\n",
            " [ 1 26  3]\n",
            " [ 1 35  1]\n",
            " [ 0 35  3]]\n",
            "[0 1 1 1 0]\n"
          ],
          "name": "stdout"
        }
      ]
    },
    {
      "cell_type": "code",
      "metadata": {
        "id": "umwoMPOJ4vkA",
        "colab_type": "code",
        "colab": {},
        "outputId": "779d4035-6064-47b5-c962-925d30a6aaca"
      },
      "source": [
        "X.shape"
      ],
      "execution_count": 0,
      "outputs": [
        {
          "output_type": "execute_result",
          "data": {
            "text/plain": [
              "(714, 3)"
            ]
          },
          "metadata": {
            "tags": []
          },
          "execution_count": 9
        }
      ]
    },
    {
      "cell_type": "code",
      "metadata": {
        "id": "7381CqIk4vkX",
        "colab_type": "code",
        "colab": {},
        "outputId": "c94d2197-cbbb-4db1-844c-d79b5ccb0b2c"
      },
      "source": [
        "y.shape"
      ],
      "execution_count": 0,
      "outputs": [
        {
          "output_type": "execute_result",
          "data": {
            "text/plain": [
              "(714,)"
            ]
          },
          "metadata": {
            "tags": []
          },
          "execution_count": 10
        }
      ]
    },
    {
      "cell_type": "code",
      "metadata": {
        "id": "wItPbrHK4vkk",
        "colab_type": "code",
        "colab": {}
      },
      "source": [
        "female = (X[:,0]==1)\n",
        "survived = (y ==1)\n",
        "\n",
        "age = X[:,1]\n",
        "\n",
        "# Compute few histograms\n",
        "mybins = np.arange(0, 81, 5)\n",
        "S = {'male': np.histogram(age[survived & ~female], \n",
        "                          bins=mybins)[0],\n",
        "     'female': np.histogram(age[survived & female], \n",
        "                            bins=mybins)[0]}\n",
        "D = {'male': np.histogram(age[~survived & ~female], \n",
        "                          bins=mybins)[0],\n",
        "     'female': np.histogram(age[~survived & female], \n",
        "                            bins=mybins)[0]}"
      ],
      "execution_count": 0,
      "outputs": []
    },
    {
      "cell_type": "code",
      "metadata": {
        "id": "cnJCOZyh4vlD",
        "colab_type": "code",
        "colab": {},
        "outputId": "f9ca6180-3126-4660-e937-740c80c28f97"
      },
      "source": [
        "bins = mybins[:-1]\n",
        "plt.figure(figsize=(10,3));\n",
        "for i, sex, color in zip((0, 1),\n",
        "                         ('male', 'female'),\n",
        "                         ('#3345d0', '#cc3dc0')):\n",
        "    plt.subplot(121 + i);\n",
        "    plt.bar(bins, S[sex], bottom=D[sex], color=color,\n",
        "            width=5, label='survived');\n",
        "    plt.bar(bins, D[sex], color='k', width=5, label='died');\n",
        "    plt.xlim(0, 80);\n",
        "    plt.grid(None);\n",
        "    plt.title(sex + \" survival\");\n",
        "    plt.xlabel(\"Age (years)\");\n",
        "    plt.legend();"
      ],
      "execution_count": 0,
      "outputs": [
        {
          "output_type": "display_data",
          "data": {
            "image/png": "[encoded data removed]",
            "text/plain": [
              "<Figure size 720x216 with 2 Axes>"
            ]
          },
          "metadata": {
            "tags": []
          }
        }
      ]
    },
    {
      "cell_type": "code",
      "metadata": {
        "id": "wfxX-u4W4vlg",
        "colab_type": "code",
        "colab": {}
      },
      "source": [
        "(X_train, X_test, y_train, y_test) = cv.train_test_split(X, y, test_size=.25)"
      ],
      "execution_count": 0,
      "outputs": []
    },
    {
      "cell_type": "code",
      "metadata": {
        "id": "SDtPbIe94vl0",
        "colab_type": "code",
        "colab": {},
        "outputId": "7c13ecfb-dd0d-46e1-ef16-9ced7058b9e6"
      },
      "source": [
        "X_train.shape"
      ],
      "execution_count": 0,
      "outputs": [
        {
          "output_type": "execute_result",
          "data": {
            "text/plain": [
              "(535, 3)"
            ]
          },
          "metadata": {
            "tags": []
          },
          "execution_count": 14
        }
      ]
    },
    {
      "cell_type": "code",
      "metadata": {
        "id": "MSGSGU9E4vmG",
        "colab_type": "code",
        "colab": {},
        "outputId": "4f51c1b2-1925-4909-e8fc-9b3bc408b8aa"
      },
      "source": [
        "X_test.shape"
      ],
      "execution_count": 0,
      "outputs": [
        {
          "output_type": "execute_result",
          "data": {
            "text/plain": [
              "(179, 3)"
            ]
          },
          "metadata": {
            "tags": []
          },
          "execution_count": 15
        }
      ]
    },
    {
      "cell_type": "code",
      "metadata": {
        "id": "6TkEk1us4vmW",
        "colab_type": "code",
        "colab": {},
        "outputId": "61088af5-ab07-420e-e5cc-e249aceb1486"
      },
      "source": [
        "X_train[:5,:]"
      ],
      "execution_count": 0,
      "outputs": [
        {
          "output_type": "execute_result",
          "data": {
            "text/plain": [
              "array([[ 0, 42,  1],\n",
              "       [ 0, 32,  3],\n",
              "       [ 1, 26,  3],\n",
              "       [ 0, 31,  1],\n",
              "       [ 1, 24,  1]])"
            ]
          },
          "metadata": {
            "tags": []
          },
          "execution_count": 16
        }
      ]
    },
    {
      "cell_type": "code",
      "metadata": {
        "id": "fQmDg0tk4vmm",
        "colab_type": "code",
        "colab": {}
      },
      "source": [
        "#instantiate the classifier / 'create the model'\n",
        "logreg = lm.LogisticRegression(solver='lbfgs')"
      ],
      "execution_count": 0,
      "outputs": []
    },
    {
      "cell_type": "code",
      "metadata": {
        "id": "OcLobk5c4vm-",
        "colab_type": "code",
        "colab": {}
      },
      "source": [
        "logreg.fit(X_train, y_train)                                        \n",
        "y_predicted = logreg.predict(X_test)"
      ],
      "execution_count": 0,
      "outputs": []
    },
    {
      "cell_type": "code",
      "metadata": {
        "id": "qZFC61G_4vnW",
        "colab_type": "code",
        "colab": {},
        "outputId": "b31c3441-ffb1-4c26-ce08-4d58f44b3ef4"
      },
      "source": [
        "y_test[:5]"
      ],
      "execution_count": 0,
      "outputs": [
        {
          "output_type": "execute_result",
          "data": {
            "text/plain": [
              "array([0, 0, 1, 1, 1])"
            ]
          },
          "metadata": {
            "tags": []
          },
          "execution_count": 19
        }
      ]
    },
    {
      "cell_type": "code",
      "metadata": {
        "id": "lfOq1jCR4vnn",
        "colab_type": "code",
        "colab": {},
        "outputId": "9d549770-8333-4465-aa9e-44eb8ee08e67"
      },
      "source": [
        "y_predicted[:5]"
      ],
      "execution_count": 0,
      "outputs": [
        {
          "output_type": "execute_result",
          "data": {
            "text/plain": [
              "array([0, 0, 1, 1, 0])"
            ]
          },
          "metadata": {
            "tags": []
          },
          "execution_count": 20
        }
      ]
    },
    {
      "cell_type": "code",
      "metadata": {
        "id": "wTSO-zEb4vn2",
        "colab_type": "code",
        "colab": {},
        "outputId": "0ae7ffb2-eda1-452f-e552-fab7099b1ce7"
      },
      "source": [
        "from sklearn.metrics import accuracy_score\n",
        "accuracy_score(y_test, y_predicted)"
      ],
      "execution_count": 0,
      "outputs": [
        {
          "output_type": "execute_result",
          "data": {
            "text/plain": [
              "0.8156424581005587"
            ]
          },
          "metadata": {
            "tags": []
          },
          "execution_count": 21
        }
      ]
    },
    {
      "cell_type": "code",
      "metadata": {
        "id": "3d9Xb8P54voC",
        "colab_type": "code",
        "colab": {},
        "outputId": "6ef615f5-ed71-42fd-bde1-95de0be01aa8"
      },
      "source": [
        "from sklearn.metrics import classification_report\n",
        "print(classification_report(y_test, y_predicted))"
      ],
      "execution_count": 0,
      "outputs": [
        {
          "output_type": "stream",
          "text": [
            "             precision    recall  f1-score   support\n",
            "\n",
            "          0       0.81      0.90      0.85       107\n",
            "          1       0.82      0.69      0.75        72\n",
            "\n",
            "avg / total       0.82      0.82      0.81       179\n",
            "\n"
          ],
          "name": "stdout"
        }
      ]
    },
    {
      "cell_type": "code",
      "metadata": {
        "id": "6a2srfSc4voV",
        "colab_type": "code",
        "colab": {},
        "outputId": "45677ee0-ab53-4266-ea7f-163843b08eca"
      },
      "source": [
        "from sklearn.metrics import confusion_matrix\n",
        "print(confusion_matrix(y_test, y_predicted)) "
      ],
      "execution_count": 0,
      "outputs": [
        {
          "output_type": "stream",
          "text": [
            "[[96 11]\n",
            " [22 50]]\n"
          ],
          "name": "stdout"
        }
      ]
    },
    {
      "cell_type": "code",
      "metadata": {
        "id": "9TySpTc64vom",
        "colab_type": "code",
        "colab": {},
        "outputId": "a8218817-e5ff-4523-b954-ddea6572f736"
      },
      "source": [
        "# Run Logistic Regression on the IRIS Dataset\n",
        "import sklearn.datasets as ds\n",
        "iris = ds.load_iris()\n",
        "X, y = iris.data, iris.target\n",
        "(X_train, X_test, y_train, y_test) = cv.train_test_split(X, y, test_size=.25)\n",
        "\n",
        "logreg = lm.LogisticRegression(solver='lbfgs')\n",
        "logreg.fit(X_train, y_train)                                        \n",
        "y_predicted = logreg.predict(X_test)\n",
        "\n",
        "from sklearn.metrics import accuracy_score\n",
        "print(accuracy_score(y_test, y_predicted))\n",
        "print(classification_report(y_test, y_predicted)) \n",
        "print(confusion_matrix(y_test, y_predicted)) "
      ],
      "execution_count": 0,
      "outputs": [
        {
          "output_type": "stream",
          "text": [
            "0.9736842105263158\n",
            "             precision    recall  f1-score   support\n",
            "\n",
            "          0       1.00      1.00      1.00         9\n",
            "          1       0.94      1.00      0.97        16\n",
            "          2       1.00      0.92      0.96        13\n",
            "\n",
            "avg / total       0.98      0.97      0.97        38\n",
            "\n",
            "[[ 9  0  0]\n",
            " [ 0 16  0]\n",
            " [ 0  1 12]]\n"
          ],
          "name": "stdout"
        }
      ]
    },
    {
      "cell_type": "markdown",
      "metadata": {
        "id": "WM7CF4tM4vo4",
        "colab_type": "text"
      },
      "source": [
        "========================================================================"
      ]
    },
    {
      "cell_type": "markdown",
      "metadata": {
        "id": "d3HpQmpF4vo7",
        "colab_type": "text"
      },
      "source": [
        "# Support Vector Machines: Classification"
      ]
    },
    {
      "cell_type": "code",
      "metadata": {
        "id": "zv9MTOjJ4vo_",
        "colab_type": "code",
        "colab": {}
      },
      "source": [
        "import numpy as np\n",
        "import pandas as pd\n",
        "import sklearn.datasets as ds\n",
        "import sklearn.model_selection as cv\n",
        "import sklearn.svm as svm\n",
        "import matplotlib.pyplot as plt\n",
        "%matplotlib inline"
      ],
      "execution_count": 0,
      "outputs": []
    },
    {
      "cell_type": "code",
      "metadata": {
        "id": "c9P2btmw4vpO",
        "colab_type": "code",
        "colab": {},
        "outputId": "beb6dc9a-2340-4f47-f8db-8b88a48179db"
      },
      "source": [
        "X = np.random.randn(200, 2)                                                  \n",
        "y = (X[:, 0] + X[:, 1]) > 1 \n",
        "\n",
        "X[:10], y[:10]                                                               "
      ],
      "execution_count": 0,
      "outputs": [
        {
          "output_type": "execute_result",
          "data": {
            "text/plain": [
              "(array([[-0.273824  ,  0.30265097],\n",
              "        [ 0.14090732,  0.34480212],\n",
              "        [-1.16807983,  0.10750179],\n",
              "        [-0.5906225 ,  0.46853847],\n",
              "        [ 1.31997392,  0.16439802],\n",
              "        [ 0.60512284, -0.32918102],\n",
              "        [-0.35996945, -0.27872138],\n",
              "        [-1.40592204, -0.18783449],\n",
              "        [-0.43867979,  1.03103365],\n",
              "        [-0.82074169,  0.0853434 ]]),\n",
              " array([False, False, False, False,  True, False, False, False, False,\n",
              "        False]))"
            ]
          },
          "metadata": {
            "tags": []
          },
          "execution_count": 29
        }
      ]
    },
    {
      "cell_type": "code",
      "metadata": {
        "id": "ah9QRwqk4vpd",
        "colab_type": "code",
        "colab": {},
        "outputId": "fd9e726f-1a26-4d53-cd4e-912940848af0"
      },
      "source": [
        "est = svm.LinearSVC()\n",
        "est.fit(X, y)"
      ],
      "execution_count": 0,
      "outputs": [
        {
          "output_type": "execute_result",
          "data": {
            "text/plain": [
              "LinearSVC(C=1.0, class_weight=None, dual=True, fit_intercept=True,\n",
              "     intercept_scaling=1, loss='squared_hinge', max_iter=1000,\n",
              "     multi_class='ovr', penalty='l2', random_state=None, tol=0.0001,\n",
              "     verbose=0)"
            ]
          },
          "metadata": {
            "tags": []
          },
          "execution_count": 30
        }
      ]
    },
    {
      "cell_type": "code",
      "metadata": {
        "id": "49r9GJqk4vps",
        "colab_type": "code",
        "colab": {},
        "outputId": "1ecacd80-6038-40ce-ed16-78f4742effdc"
      },
      "source": [
        "from plot_decisionfun import *\n",
        "plot_decision_function(est, X, y)                                  \n",
        "plt.title(\"Linearly separable, linear SVC\")"
      ],
      "execution_count": 0,
      "outputs": [
        {
          "output_type": "execute_result",
          "data": {
            "text/plain": [
              "Text(0.5,1,'Linearly separable, linear SVC')"
            ]
          },
          "metadata": {
            "tags": []
          },
          "execution_count": 31
        },
        {
          "output_type": "display_data",
          "data": {
            "image/png": "[encoded data removed]",
            "text/plain": [
              "<Figure size 360x360 with 1 Axes>"
            ]
          },
          "metadata": {
            "tags": []
          }
        }
      ]
    },
    {
      "cell_type": "code",
      "metadata": {
        "id": "4rf-3Xr44vp-",
        "colab_type": "code",
        "colab": {},
        "outputId": "7541aabd-0217-40ef-adc8-5c3f9dd2f89e"
      },
      "source": [
        "from sklearn.model_selection import GridSearchCV\n",
        "\n",
        "y = np.logical_xor(X[:, 0] > 0, X[:, 1] > 0)                                              \n",
        "\n",
        "# Train the classifier\n",
        "est = GridSearchCV(svm.LinearSVC(), \n",
        "                      {'C': np.logspace(-3., 3., 10)}, cv = 3)\n",
        "est.fit(X, y)                                                         \n",
        "\n",
        "print(\"Score: {0:.1f}\".format(cv.cross_val_score(est, X, y).mean()))\n",
        "\n",
        "# Plot the decision function\n",
        "plot_decision_function(est, X, y) \n",
        "plt.title(\"XOR, linear SVC\")"
      ],
      "execution_count": 0,
      "outputs": [
        {
          "output_type": "stream",
          "text": [
            "Score: 0.6\n"
          ],
          "name": "stdout"
        },
        {
          "output_type": "execute_result",
          "data": {
            "text/plain": [
              "Text(0.5,1,'XOR, linear SVC')"
            ]
          },
          "metadata": {
            "tags": []
          },
          "execution_count": 33
        },
        {
          "output_type": "display_data",
          "data": {
            "image/png": "[encoded data removed]",
            "text/plain": [
              "<Figure size 360x360 with 1 Axes>"
            ]
          },
          "metadata": {
            "tags": []
          }
        }
      ]
    },
    {
      "cell_type": "code",
      "metadata": {
        "id": "Tz-aqWQg4vqa",
        "colab_type": "code",
        "colab": {},
        "outputId": "1f73ac0f-6a77-4c5a-de9d-1768e9db5ffd"
      },
      "source": [
        "y = np.logical_xor(X[:, 0] > 0, X[:, 1] > 0)\n",
        "est = GridSearchCV(svm.SVC(),                                              \n",
        "                      {'C': np.logspace(-3., 3., 10),\n",
        "                       'gamma': np.logspace(-3., 3., 10)}, cv=5)\n",
        "est.fit(X, y)\n",
        "print(\"Score: {0:.3f}\".format(\n",
        "      cv.cross_val_score(est, X, y).mean()))\n",
        "\n",
        "plot_decision_function(est.best_estimator_, X, y)\n",
        "plt.title(\"XOR, non-linear SVC\")"
      ],
      "execution_count": 0,
      "outputs": [
        {
          "output_type": "stream",
          "text": [
            "Score: 0.945\n"
          ],
          "name": "stdout"
        },
        {
          "output_type": "execute_result",
          "data": {
            "text/plain": [
              "Text(0.5,1,'XOR, non-linear SVC')"
            ]
          },
          "metadata": {
            "tags": []
          },
          "execution_count": 36
        },
        {
          "output_type": "display_data",
          "data": {
            "image/png": "[encoded data removed]",
            "text/plain": [
              "<Figure size 360x360 with 1 Axes>"
            ]
          },
          "metadata": {
            "tags": []
          }
        }
      ]
    },
    {
      "cell_type": "markdown",
      "metadata": {
        "id": "n3K6Eq8V4vqw",
        "colab_type": "text"
      },
      "source": [
        "### Applying SVM on IRIS dataset"
      ]
    },
    {
      "cell_type": "code",
      "metadata": {
        "id": "zfa6a9eh4vq9",
        "colab_type": "code",
        "colab": {},
        "outputId": "dbe41372-de67-491a-f619-46d89e2936c7"
      },
      "source": [
        "import pandas as pd\n",
        "import numpy as np\n",
        "from sklearn import svm, datasets\n",
        "import matplotlib.pyplot as plt\n",
        "%matplotlib inline\n",
        "\n",
        "iris = datasets.load_iris()\n",
        "X = iris.data[:,:2]\n",
        "y = iris.target\n",
        "\n",
        "# Plot resulting Support Vector boundaries with original data\n",
        "# Create fake input data for prediction that we will use for plotting\n",
        "\n",
        "# create a mesh to plot in\n",
        "x_min, x_max = X[:, 0].min() - 1, X[:, 0].max() + 1\n",
        "y_min, y_max = X[:, 1].min() - 1, X[:, 1].max() + 1\n",
        "h = (x_max / x_min)/100\n",
        "xx, yy = np.meshgrid(np.arange(x_min, x_max, h), np.arange(y_min, y_max, h))\n",
        "X_plot = np.c_[xx.ravel(), yy.ravel()]\n",
        "\n",
        "C = 1.0 \n",
        "svc = svm.SVC(kernel='linear', C=C, decision_function_shape='ovr').fit(X, y)                 \n",
        "Z = svc.predict(X_plot)                                 \n",
        "Z = Z.reshape(xx.shape)\n",
        "\n",
        "plt.figure(figsize=(15, 5))\n",
        "plt.subplot(121)\n",
        "plt.contourf(xx, yy, Z, cmap=plt.cm.Set1, alpha=0.5)\n",
        "plt.scatter(X[:, 0], X[:, 1], c=y, cmap=plt.cm.cool)\n",
        "plt.xlabel('Sepal length')\n",
        "plt.ylabel('Sepal width')\n",
        "plt.xlim(xx.min(), xx.max())\n",
        "plt.title('SVC with linear kernel')\n",
        "plt.show()"
      ],
      "execution_count": 0,
      "outputs": [
        {
          "output_type": "display_data",
          "data": {
            "image/png": "[encoded data removed]",
            "text/plain": [
              "<Figure size 1080x360 with 1 Axes>"
            ]
          },
          "metadata": {
            "tags": []
          }
        }
      ]
    },
    {
      "cell_type": "code",
      "metadata": {
        "id": "zKm2MKc14vra",
        "colab_type": "code",
        "colab": {},
        "outputId": "87473360-00d1-457d-8275-9674f89d4982"
      },
      "source": [
        "from sklearn.model_selection import GridSearchCV\n",
        "import sklearn.model_selection as cv\n",
        "from sklearn.metrics import classification_report\n",
        "from sklearn.utils import shuffle\n",
        "\n",
        "X, y = shuffle(X, y, random_state=0)\n",
        "\n",
        "X_train, X_test, y_train, y_test = cv.train_test_split(X, y, test_size=0.25)\n",
        "\n",
        "parameters = [{'kernel': ['rbf'],\n",
        "               'gamma': [1e-4, 1e-3, 0.01, 0.1, 0.2, 0.5],\n",
        "                'C': [1, 10, 100, 1000]},\n",
        "              {'kernel': ['linear'], 'C': [1, 10, 100, 1000]}]\n",
        "\n",
        "print(\"# Tuning hyper-parameters\")\n",
        "print()\n",
        "\n",
        "clf = GridSearchCV(svm.SVC(decision_function_shape='ovr'), parameters, cv=5)                 \n",
        "clf.fit(X_train, y_train)\n",
        "\n",
        "print(\"Best parameters set found on training set:\")\n",
        "print()\n",
        "print(clf.best_params_)\n",
        "print()\n",
        "print(\"Grid scores on training set:\")\n",
        "print()\n",
        "means = clf.cv_results_['mean_test_score']\n",
        "stds = clf.cv_results_['std_test_score']\n",
        "for mean, std, params in zip(means, stds, clf.cv_results_['params']):\n",
        "    print(\"%0.3f (+/-%0.03f) for %r\"\n",
        "          % (mean, std * 2, params))\n",
        "print()"
      ],
      "execution_count": 0,
      "outputs": [
        {
          "output_type": "stream",
          "text": [
            "# Tuning hyper-parameters\n",
            "\n",
            "Best parameters set found on training set:\n",
            "\n",
            "{'C': 10, 'gamma': 0.01, 'kernel': 'rbf'}\n",
            "\n",
            "Grid scores on training set:\n",
            "\n",
            "0.357 (+/-0.026) for {'C': 1, 'gamma': 0.0001, 'kernel': 'rbf'}\n",
            "0.357 (+/-0.026) for {'C': 1, 'gamma': 0.001, 'kernel': 'rbf'}\n",
            "0.652 (+/-0.076) for {'C': 1, 'gamma': 0.01, 'kernel': 'rbf'}\n",
            "0.804 (+/-0.120) for {'C': 1, 'gamma': 0.1, 'kernel': 'rbf'}\n",
            "0.812 (+/-0.116) for {'C': 1, 'gamma': 0.2, 'kernel': 'rbf'}\n",
            "0.786 (+/-0.111) for {'C': 1, 'gamma': 0.5, 'kernel': 'rbf'}\n",
            "0.357 (+/-0.026) for {'C': 10, 'gamma': 0.0001, 'kernel': 'rbf'}\n",
            "0.643 (+/-0.084) for {'C': 10, 'gamma': 0.001, 'kernel': 'rbf'}\n",
            "0.821 (+/-0.148) for {'C': 10, 'gamma': 0.01, 'kernel': 'rbf'}\n",
            "0.777 (+/-0.086) for {'C': 10, 'gamma': 0.1, 'kernel': 'rbf'}\n",
            "0.777 (+/-0.086) for {'C': 10, 'gamma': 0.2, 'kernel': 'rbf'}\n",
            "0.768 (+/-0.107) for {'C': 10, 'gamma': 0.5, 'kernel': 'rbf'}\n",
            "0.643 (+/-0.084) for {'C': 100, 'gamma': 0.0001, 'kernel': 'rbf'}\n",
            "0.821 (+/-0.148) for {'C': 100, 'gamma': 0.001, 'kernel': 'rbf'}\n",
            "0.786 (+/-0.090) for {'C': 100, 'gamma': 0.01, 'kernel': 'rbf'}\n",
            "0.759 (+/-0.133) for {'C': 100, 'gamma': 0.1, 'kernel': 'rbf'}\n",
            "0.768 (+/-0.107) for {'C': 100, 'gamma': 0.2, 'kernel': 'rbf'}\n",
            "0.741 (+/-0.121) for {'C': 100, 'gamma': 0.5, 'kernel': 'rbf'}\n",
            "0.821 (+/-0.148) for {'C': 1000, 'gamma': 0.0001, 'kernel': 'rbf'}\n",
            "0.786 (+/-0.090) for {'C': 1000, 'gamma': 0.001, 'kernel': 'rbf'}\n",
            "0.795 (+/-0.092) for {'C': 1000, 'gamma': 0.01, 'kernel': 'rbf'}\n",
            "0.759 (+/-0.095) for {'C': 1000, 'gamma': 0.1, 'kernel': 'rbf'}\n",
            "0.750 (+/-0.097) for {'C': 1000, 'gamma': 0.2, 'kernel': 'rbf'}\n",
            "0.723 (+/-0.107) for {'C': 1000, 'gamma': 0.5, 'kernel': 'rbf'}\n",
            "0.804 (+/-0.123) for {'C': 1, 'kernel': 'linear'}\n",
            "0.795 (+/-0.092) for {'C': 10, 'kernel': 'linear'}\n",
            "0.804 (+/-0.123) for {'C': 100, 'kernel': 'linear'}\n",
            "0.804 (+/-0.123) for {'C': 1000, 'kernel': 'linear'}\n",
            "\n"
          ],
          "name": "stdout"
        }
      ]
    },
    {
      "cell_type": "code",
      "metadata": {
        "id": "mkEwVNdZ4vrz",
        "colab_type": "code",
        "colab": {},
        "outputId": "c1f6d44c-290d-4c34-c304-dd802af9ad29"
      },
      "source": [
        "print(\"Detailed classification report:\")\n",
        "print()\n",
        "print(\"The model is trained on the training set.\")\n",
        "print(\"The scores are computed on the testing set.\")\n",
        "print()\n",
        "y_true, y_pred = y_test, clf.predict(X_test)\n",
        "print(classification_report(y_true, y_pred))\n",
        "print()"
      ],
      "execution_count": 0,
      "outputs": [
        {
          "output_type": "stream",
          "text": [
            "Detailed classification report:\n",
            "\n",
            "The model is trained on the training set.\n",
            "The scores are computed on the testing set.\n",
            "\n",
            "             precision    recall  f1-score   support\n",
            "\n",
            "          0       0.92      1.00      0.96        12\n",
            "          1       1.00      0.56      0.72        16\n",
            "          2       0.62      1.00      0.77        10\n",
            "\n",
            "avg / total       0.88      0.82      0.81        38\n",
            "\n",
            "\n"
          ],
          "name": "stdout"
        }
      ]
    },
    {
      "cell_type": "code",
      "metadata": {
        "id": "BlvamW0B4vsO",
        "colab_type": "code",
        "colab": {},
        "outputId": "920fbfdb-83bc-4930-dec5-ee89d7f4cb00"
      },
      "source": [
        "from sklearn.metrics import accuracy_score\n",
        "accuracy_score(y_test, y_pred)"
      ],
      "execution_count": 0,
      "outputs": [
        {
          "output_type": "execute_result",
          "data": {
            "text/plain": [
              "0.8157894736842105"
            ]
          },
          "metadata": {
            "tags": []
          },
          "execution_count": 45
        }
      ]
    },
    {
      "cell_type": "markdown",
      "metadata": {
        "id": "IU7EJ93F4vsd",
        "colab_type": "text"
      },
      "source": [
        "## Exercise: SVM for Titanic Dataset"
      ]
    },
    {
      "cell_type": "code",
      "metadata": {
        "id": "2XG_6YJc4vsj",
        "colab_type": "code",
        "colab": {}
      },
      "source": [
        "# Titanic with SVM\n",
        "\n",
        "import numpy as np\n",
        "import pandas as pd\n",
        "import sklearn.svm as svm\n",
        "import sklearn.model_selection as cv\n",
        "from sklearn.model_selection import GridSearchCV\n",
        "from sklearn.metrics import classification_report\n",
        "\n",
        "# Load the dataset with Pandas\n",
        "train = pd.read_csv('Data/titanic.csv')\n",
        "\n",
        "data = train[['Sex', 'Age', 'Pclass', 'Survived']].copy()\n",
        "data['Sex'] = data['Sex'] == 'female'\n",
        "data = data.dropna()\n",
        "\n",
        "# Create X and Y\n",
        "\n",
        "# Split the dataset \n",
        "\n",
        "# Set the parameters by cross-validation\n",
        "\n",
        "# Perform Grid Search\n",
        "\n",
        "# Fit\n",
        "\n",
        "# Display the best parameters\n",
        "\n",
        "# Predict on test data\n",
        "\n",
        "# Show the classification report"
      ],
      "execution_count": 0,
      "outputs": []
    },
    {
      "cell_type": "markdown",
      "metadata": {
        "id": "mmSAGc6p4vs4",
        "colab_type": "text"
      },
      "source": [
        "========================================================================"
      ]
    },
    {
      "cell_type": "markdown",
      "metadata": {
        "id": "ZpEMd-_74vs_",
        "colab_type": "text"
      },
      "source": [
        "# Dimensionality Reduction: Principal Component Analysis (PCA)"
      ]
    },
    {
      "cell_type": "markdown",
      "metadata": {
        "id": "HgEFUgWq4vtD",
        "colab_type": "text"
      },
      "source": [
        "## Notes\n",
        "\n",
        "**PCA Algorithm:**\n",
        "1. Standardize the data to obtain $S$.\n",
        "\n",
        "2. Obtain the Eigenvectors and Eigenvalues of $S$ via the **Covariance Matrix** method or **Singular Vector Decomposition** (SVD) method.\n",
        "\n",
        "3. Sort eigenvalues in **descending** order and choose the $k$ eigenvectors that correspond to the $k$ largest eigenvalues where $k$ is the number of dimensions of the new feature subspace ($k \\leq d$).\n",
        "\n",
        "4. Construct the projection matrix $U$ from the selected $k$ eigenvectors.\n",
        "\n",
        "5. Transform the original dataset via $U$ to obtain a $k$-dimensional feature subspace."
      ]
    },
    {
      "cell_type": "code",
      "metadata": {
        "id": "uuD7d5Xt4vtP",
        "colab_type": "code",
        "colab": {},
        "outputId": "f33021f6-fd53-481a-9820-8ce36bd879c3"
      },
      "source": [
        "import numpy as np\n",
        "from sklearn.decomposition import PCA\n",
        "X = np.array([[-1, -1, 5], [-2, -1, 8], [-3, -2, 6], \n",
        "              [1, 1, 8], [2, 1, 5], [3, 2, 9]])\n",
        "print(X)\n",
        "print()\n",
        "pca = PCA(pca_components=1)\n",
        "pca.fit(X)                               \n",
        "\n",
        "print(pca.components_) \n",
        "print()\n",
        "print(pca.explained_variance_ratio_)\n",
        "print()\n",
        "X_pca = pca.transform(X)\n",
        "print(X_pca)"
      ],
      "execution_count": 0,
      "outputs": [
        {
          "output_type": "stream",
          "text": [
            "[[-1 -1  5]\n",
            " [-2 -1  8]\n",
            " [-3 -2  6]\n",
            " [ 1  1  8]\n",
            " [ 2  1  5]\n",
            " [ 3  2  9]]\n",
            "\n"
          ],
          "name": "stdout"
        },
        {
          "output_type": "error",
          "ename": "TypeError",
          "evalue": "__init__() got an unexpected keyword argument 'pca_components'",
          "traceback": [
            "\u001b[1;31m---------------------------------------------------------------------------\u001b[0m",
            "\u001b[1;31mTypeError\u001b[0m                                 Traceback (most recent call last)",
            "\u001b[1;32m<ipython-input-52-f3b660306dff>\u001b[0m in \u001b[0;36m<module>\u001b[1;34m()\u001b[0m\n\u001b[0;32m      5\u001b[0m \u001b[0mprint\u001b[0m\u001b[1;33m(\u001b[0m\u001b[0mX\u001b[0m\u001b[1;33m)\u001b[0m\u001b[1;33m\u001b[0m\u001b[0m\n\u001b[0;32m      6\u001b[0m \u001b[0mprint\u001b[0m\u001b[1;33m(\u001b[0m\u001b[1;33m)\u001b[0m\u001b[1;33m\u001b[0m\u001b[0m\n\u001b[1;32m----> 7\u001b[1;33m \u001b[0mpca\u001b[0m \u001b[1;33m=\u001b[0m \u001b[0mPCA\u001b[0m\u001b[1;33m(\u001b[0m\u001b[0mpca_components\u001b[0m\u001b[1;33m=\u001b[0m\u001b[1;36m1\u001b[0m\u001b[1;33m)\u001b[0m\u001b[1;33m\u001b[0m\u001b[0m\n\u001b[0m\u001b[0;32m      8\u001b[0m \u001b[0mpca\u001b[0m\u001b[1;33m.\u001b[0m\u001b[0mfit\u001b[0m\u001b[1;33m(\u001b[0m\u001b[0mX\u001b[0m\u001b[1;33m)\u001b[0m\u001b[1;33m\u001b[0m\u001b[0m\n\u001b[0;32m      9\u001b[0m \u001b[1;33m\u001b[0m\u001b[0m\n",
            "\u001b[1;31mTypeError\u001b[0m: __init__() got an unexpected keyword argument 'pca_components'"
          ]
        }
      ]
    },
    {
      "cell_type": "markdown",
      "metadata": {
        "id": "8zCrhgqb4vtl",
        "colab_type": "text"
      },
      "source": [
        "### PCA on IRIS dataset"
      ]
    },
    {
      "cell_type": "code",
      "metadata": {
        "id": "-tzweY5q4vts",
        "colab_type": "code",
        "colab": {},
        "outputId": "545492ab-e645-427e-cedd-5598be5733c1"
      },
      "source": [
        "import sklearn.datasets as ds\n",
        "import matplotlib.pyplot as plt\n",
        "%matplotlib inline\n",
        "\n",
        "iris = ds.load_iris()\n",
        "X = iris.data\n",
        "y = iris.target\n",
        "print(X.shape)\n",
        "\n",
        "plt.figure(figsize=(6,3))\n",
        "plt.scatter(X[:,0], X[:,1], c=y, s=30, cmap=plt.cm.rainbow)"
      ],
      "execution_count": 0,
      "outputs": [
        {
          "output_type": "stream",
          "text": [
            "(150, 4)\n"
          ],
          "name": "stdout"
        },
        {
          "output_type": "execute_result",
          "data": {
            "text/plain": [
              "<matplotlib.collections.PathCollection at 0xadd6e10>"
            ]
          },
          "metadata": {
            "tags": []
          },
          "execution_count": 53
        },
        {
          "output_type": "display_data",
          "data": {
            "image/png": "[encoded data removed]",
            "text/plain": [
              "<Figure size 432x216 with 1 Axes>"
            ]
          },
          "metadata": {
            "tags": []
          }
        }
      ]
    },
    {
      "cell_type": "code",
      "metadata": {
        "id": "uNIc5n3G4vt5",
        "colab_type": "code",
        "colab": {},
        "outputId": "99c34ff6-ecc4-4853-d639-8e3bf122e8ba"
      },
      "source": [
        "from sklearn.decomposition import PCA\n",
        "pca = PCA()\n",
        "\n",
        "X_pca = pca.fit_transform(X)\n",
        "\n",
        "print(pca.components_)\n",
        "print()\n",
        "print(pca.explained_variance_ratio_)"
      ],
      "execution_count": 0,
      "outputs": [
        {
          "output_type": "stream",
          "text": [
            "[[ 0.36158968 -0.08226889  0.85657211  0.35884393]\n",
            " [ 0.65653988  0.72971237 -0.1757674  -0.07470647]\n",
            " [-0.58099728  0.59641809  0.07252408  0.54906091]\n",
            " [ 0.31725455 -0.32409435 -0.47971899  0.75112056]]\n",
            "\n",
            "[0.92461621 0.05301557 0.01718514 0.00518309]\n"
          ],
          "name": "stdout"
        }
      ]
    },
    {
      "cell_type": "code",
      "metadata": {
        "id": "Kj5p3r-q4vui",
        "colab_type": "code",
        "colab": {},
        "outputId": "6fc2df26-3f6d-438b-9618-ae023873752a"
      },
      "source": [
        "print(X_pca.shape)"
      ],
      "execution_count": 0,
      "outputs": [
        {
          "output_type": "stream",
          "text": [
            "(150, 4)\n"
          ],
          "name": "stdout"
        }
      ]
    },
    {
      "cell_type": "code",
      "metadata": {
        "id": "xy79YbmA4vuu",
        "colab_type": "code",
        "colab": {},
        "outputId": "e457092e-fdaf-425c-da2e-7840997fbe53"
      },
      "source": [
        "X_pca[:,3] "
      ],
      "execution_count": 0,
      "outputs": [
        {
          "output_type": "execute_result",
          "data": {
            "text/plain": [
              "array([ 1.00615724e-03,  9.96024240e-02,  1.93045428e-02, -7.59552741e-02,\n",
              "       -6.31287327e-02, -2.71468037e-02, -5.00996251e-02, -4.62817610e-02,\n",
              "       -2.66154143e-02, -5.58909660e-02, -1.66082478e-02, -1.57704569e-01,\n",
              "       -7.23508674e-03, -2.19466641e-02,  1.56980962e-01,  1.92618171e-03,\n",
              "        1.64740791e-01,  7.61182133e-02,  2.53269397e-02, -6.90819912e-02,\n",
              "       -1.53237396e-02,  3.84395001e-02,  1.85704335e-03,  1.47245500e-01,\n",
              "       -3.01620265e-01,  3.53840813e-02,  5.59704524e-02, -1.52402868e-02,\n",
              "        6.51410472e-02, -1.24611153e-01, -6.04762634e-02,  2.30844170e-01,\n",
              "       -2.84808954e-01, -9.89580706e-02, -5.58909660e-02,  1.62452806e-01,\n",
              "        1.75879875e-01, -5.58909660e-02, -1.10529508e-02, -1.45563062e-02,\n",
              "        9.23646573e-02,  3.22650607e-01, -7.58718213e-02,  1.73785129e-01,\n",
              "       -1.85857530e-01,  1.42989025e-01, -1.92165946e-01, -6.03928106e-02,\n",
              "       -4.83337025e-02,  3.40995730e-02,  1.92901169e-02, -6.75794171e-06,\n",
              "       -8.57644048e-04,  9.57844484e-02,  1.13384539e-01, -2.42671312e-01,\n",
              "       -8.49733893e-02, -1.65105922e-02, -3.75235536e-02, -5.94570198e-03,\n",
              "        4.89088061e-02,  5.01005352e-02,  6.14849891e-02, -1.69010670e-01,\n",
              "        1.24940887e-01,  1.00438884e-01, -1.88991525e-01, -2.11984995e-01,\n",
              "        2.60636685e-01, -3.95611807e-02, -7.72135596e-02,  1.24090000e-01,\n",
              "        3.24623910e-03, -2.86825347e-01,  4.29412332e-02,  1.01122865e-01,\n",
              "        3.75050497e-02,  7.03530951e-02, -2.96802711e-02,  7.65303776e-02,\n",
              "        9.09469852e-03, -1.80454588e-02,  3.41829142e-02, -1.77580737e-01,\n",
              "       -2.52442435e-01, -1.16615391e-01,  3.16352440e-02,  1.57700491e-01,\n",
              "       -1.47328042e-01,  3.09655779e-02, -2.68443508e-01, -1.53448206e-01,\n",
              "        1.86204508e-02,  4.76242978e-02, -9.80716353e-02, -2.38686542e-01,\n",
              "       -1.31165051e-01, -2.05096763e-02,  2.33558634e-01, -5.07837171e-02,\n",
              "       -3.25995685e-02, -1.56954783e-02,  6.59560495e-02, -2.36858625e-01,\n",
              "       -1.31272400e-03, -1.11219968e-01, -9.87984199e-02, -2.55407369e-01,\n",
              "       -7.62628625e-02,  1.07729319e-01,  1.19447585e-01,  7.87134526e-02,\n",
              "        1.62667280e-01,  1.40481892e-01,  3.27455367e-01,  2.17114500e-01,\n",
              "       -1.57845252e-01, -3.11629838e-01,  5.64516435e-02, -4.26737181e-02,\n",
              "        1.83854179e-01,  5.95000305e-02, -1.37759598e-01,  1.63763537e-01,\n",
              "       -6.22302776e-02, -2.40445433e-01,  1.47600546e-01,  3.08432157e-03,\n",
              "        5.26124332e-02, -2.29906877e-01, -2.02166254e-02, -2.54487344e-01,\n",
              "        1.27724489e-01, -1.89925864e-01, -5.03529453e-01,  3.10589092e-01,\n",
              "        5.17665351e-02, -2.21980142e-01,  1.93307656e-02,  2.09955199e-01,\n",
              "        2.75896660e-01,  5.04095007e-01, -1.56954783e-02,  5.61849270e-02,\n",
              "        2.38217947e-01,  4.25081634e-01,  2.55722565e-01,  1.36294556e-01,\n",
              "        4.08728218e-02, -1.56310385e-01])"
            ]
          },
          "metadata": {
            "tags": []
          },
          "execution_count": 59
        }
      ]
    },
    {
      "cell_type": "code",
      "metadata": {
        "id": "_J_BSHxc4vvc",
        "colab_type": "code",
        "colab": {},
        "outputId": "4ce58ee6-5818-4001-fe8f-b84b8e109ee5"
      },
      "source": [
        "plt.figure(figsize=(6,3))\n",
        "plt.scatter(X_pca[:,0], X_pca[:,1], c=y, s=30, cmap=plt.cm.rainbow)"
      ],
      "execution_count": 0,
      "outputs": [
        {
          "output_type": "execute_result",
          "data": {
            "text/plain": [
              "<matplotlib.collections.PathCollection at 0xae03048>"
            ]
          },
          "metadata": {
            "tags": []
          },
          "execution_count": 60
        },
        {
          "output_type": "display_data",
          "data": {
            "image/png": "[encoded data removed]",
            "text/plain": [
              "<Figure size 432x216 with 1 Axes>"
            ]
          },
          "metadata": {
            "tags": []
          }
        }
      ]
    },
    {
      "cell_type": "markdown",
      "metadata": {
        "id": "LV6uPoE_4vv-",
        "colab_type": "text"
      },
      "source": [
        "## Exercise: PCA on Wine Dataset"
      ]
    },
    {
      "cell_type": "code",
      "metadata": {
        "id": "lJo54iae4vwH",
        "colab_type": "code",
        "colab": {},
        "outputId": "c0c2a9d1-4f09-4ad7-fbc6-cfb274410864"
      },
      "source": [
        "import pandas as pd\n",
        "df_wine = pd.read_csv('Data/wine.data', header=None)\n",
        "\n",
        "df_wine.columns = ['Class label', 'Alcohol', 'Malic acid', 'Ash',\n",
        "                   'Alcalinity of ash', 'Magnesium', 'Total phenols',\n",
        "                   'Flavanoids', 'Nonflavanoid phenols', 'Proanthocyanins',\n",
        "                   'Color intensity', 'Hue', 'OD280/OD315 of diluted wines', \n",
        "                   'Proline']\n",
        "\n",
        "df_wine.head()"
      ],
      "execution_count": 0,
      "outputs": [
        {
          "output_type": "execute_result",
          "data": {
            "text/html": [
              "<div>\n",
              "<style scoped>\n",
              "    .dataframe tbody tr th:only-of-type {\n",
              "        vertical-align: middle;\n",
              "    }\n",
              "\n",
              "    .dataframe tbody tr th {\n",
              "        vertical-align: top;\n",
              "    }\n",
              "\n",
              "    .dataframe thead th {\n",
              "        text-align: right;\n",
              "    }\n",
              "</style>\n",
              "<table border=\"1\" class=\"dataframe\">\n",
              "  <thead>\n",
              "    <tr style=\"text-align: right;\">\n",
              "      <th></th>\n",
              "      <th>Class label</th>\n",
              "      <th>Alcohol</th>\n",
              "      <th>Malic acid</th>\n",
              "      <th>Ash</th>\n",
              "      <th>Alcalinity of ash</th>\n",
              "      <th>Magnesium</th>\n",
              "      <th>Total phenols</th>\n",
              "      <th>Flavanoids</th>\n",
              "      <th>Nonflavanoid phenols</th>\n",
              "      <th>Proanthocyanins</th>\n",
              "      <th>Color intensity</th>\n",
              "      <th>Hue</th>\n",
              "      <th>OD280/OD315 of diluted wines</th>\n",
              "      <th>Proline</th>\n",
              "    </tr>\n",
              "  </thead>\n",
              "  <tbody>\n",
              "    <tr>\n",
              "      <th>0</th>\n",
              "      <td>1</td>\n",
              "      <td>14.23</td>\n",
              "      <td>1.71</td>\n",
              "      <td>2.43</td>\n",
              "      <td>15.6</td>\n",
              "      <td>127</td>\n",
              "      <td>2.80</td>\n",
              "      <td>3.06</td>\n",
              "      <td>0.28</td>\n",
              "      <td>2.29</td>\n",
              "      <td>5.64</td>\n",
              "      <td>1.04</td>\n",
              "      <td>3.92</td>\n",
              "      <td>1065</td>\n",
              "    </tr>\n",
              "    <tr>\n",
              "      <th>1</th>\n",
              "      <td>1</td>\n",
              "      <td>13.20</td>\n",
              "      <td>1.78</td>\n",
              "      <td>2.14</td>\n",
              "      <td>11.2</td>\n",
              "      <td>100</td>\n",
              "      <td>2.65</td>\n",
              "      <td>2.76</td>\n",
              "      <td>0.26</td>\n",
              "      <td>1.28</td>\n",
              "      <td>4.38</td>\n",
              "      <td>1.05</td>\n",
              "      <td>3.40</td>\n",
              "      <td>1050</td>\n",
              "    </tr>\n",
              "    <tr>\n",
              "      <th>2</th>\n",
              "      <td>1</td>\n",
              "      <td>13.16</td>\n",
              "      <td>2.36</td>\n",
              "      <td>2.67</td>\n",
              "      <td>18.6</td>\n",
              "      <td>101</td>\n",
              "      <td>2.80</td>\n",
              "      <td>3.24</td>\n",
              "      <td>0.30</td>\n",
              "      <td>2.81</td>\n",
              "      <td>5.68</td>\n",
              "      <td>1.03</td>\n",
              "      <td>3.17</td>\n",
              "      <td>1185</td>\n",
              "    </tr>\n",
              "    <tr>\n",
              "      <th>3</th>\n",
              "      <td>1</td>\n",
              "      <td>14.37</td>\n",
              "      <td>1.95</td>\n",
              "      <td>2.50</td>\n",
              "      <td>16.8</td>\n",
              "      <td>113</td>\n",
              "      <td>3.85</td>\n",
              "      <td>3.49</td>\n",
              "      <td>0.24</td>\n",
              "      <td>2.18</td>\n",
              "      <td>7.80</td>\n",
              "      <td>0.86</td>\n",
              "      <td>3.45</td>\n",
              "      <td>1480</td>\n",
              "    </tr>\n",
              "    <tr>\n",
              "      <th>4</th>\n",
              "      <td>1</td>\n",
              "      <td>13.24</td>\n",
              "      <td>2.59</td>\n",
              "      <td>2.87</td>\n",
              "      <td>21.0</td>\n",
              "      <td>118</td>\n",
              "      <td>2.80</td>\n",
              "      <td>2.69</td>\n",
              "      <td>0.39</td>\n",
              "      <td>1.82</td>\n",
              "      <td>4.32</td>\n",
              "      <td>1.04</td>\n",
              "      <td>2.93</td>\n",
              "      <td>735</td>\n",
              "    </tr>\n",
              "  </tbody>\n",
              "</table>\n",
              "</div>"
            ],
            "text/plain": [
              "   Class label  Alcohol  Malic acid   Ash  Alcalinity of ash  Magnesium  \\\n",
              "0            1    14.23        1.71  2.43               15.6        127   \n",
              "1            1    13.20        1.78  2.14               11.2        100   \n",
              "2            1    13.16        2.36  2.67               18.6        101   \n",
              "3            1    14.37        1.95  2.50               16.8        113   \n",
              "4            1    13.24        2.59  2.87               21.0        118   \n",
              "\n",
              "   Total phenols  Flavanoids  Nonflavanoid phenols  Proanthocyanins  \\\n",
              "0           2.80        3.06                  0.28             2.29   \n",
              "1           2.65        2.76                  0.26             1.28   \n",
              "2           2.80        3.24                  0.30             2.81   \n",
              "3           3.85        3.49                  0.24             2.18   \n",
              "4           2.80        2.69                  0.39             1.82   \n",
              "\n",
              "   Color intensity   Hue  OD280/OD315 of diluted wines  Proline  \n",
              "0             5.64  1.04                          3.92     1065  \n",
              "1             4.38  1.05                          3.40     1050  \n",
              "2             5.68  1.03                          3.17     1185  \n",
              "3             7.80  0.86                          3.45     1480  \n",
              "4             4.32  1.04                          2.93      735  "
            ]
          },
          "metadata": {
            "tags": []
          },
          "execution_count": 61
        }
      ]
    },
    {
      "cell_type": "code",
      "metadata": {
        "id": "gO4QWbXL4vwP",
        "colab_type": "code",
        "colab": {},
        "outputId": "fdac1732-6b10-495e-9e2c-b495bdbe3dc5"
      },
      "source": [
        "# Check the shape\n",
        "df_wine.shape"
      ],
      "execution_count": 0,
      "outputs": [
        {
          "output_type": "execute_result",
          "data": {
            "text/plain": [
              "(178, 14)"
            ]
          },
          "metadata": {
            "tags": []
          },
          "execution_count": 62
        }
      ]
    },
    {
      "cell_type": "code",
      "metadata": {
        "id": "RTQozZqb4vwj",
        "colab_type": "code",
        "colab": {},
        "outputId": "29b90ade-eb60-4d1a-8be2-fbb67dbda6f4"
      },
      "source": [
        "# Convert dataframe to values\n",
        "df_wine_val = df_wine.values\n",
        "df_wine_val.shape"
      ],
      "execution_count": 0,
      "outputs": [
        {
          "output_type": "execute_result",
          "data": {
            "text/plain": [
              "(178, 14)"
            ]
          },
          "metadata": {
            "tags": []
          },
          "execution_count": 63
        }
      ]
    },
    {
      "cell_type": "code",
      "metadata": {
        "id": "LouxW1yo4vw5",
        "colab_type": "code",
        "colab": {},
        "outputId": "ebf84dbd-7527-4c41-d389-5b0f6bd69d28"
      },
      "source": [
        "np.unique(df_wine_val[:,0])"
      ],
      "execution_count": 0,
      "outputs": [
        {
          "output_type": "execute_result",
          "data": {
            "text/plain": [
              "array([1., 2., 3.])"
            ]
          },
          "metadata": {
            "tags": []
          },
          "execution_count": 64
        }
      ]
    },
    {
      "cell_type": "code",
      "metadata": {
        "id": "ikTCX4Hy4vxY",
        "colab_type": "code",
        "colab": {}
      },
      "source": [
        "# Obtain X and y\n",
        "X, y = df_wine_val[:,1:], df_wine_val[:,0]"
      ],
      "execution_count": 0,
      "outputs": []
    },
    {
      "cell_type": "code",
      "metadata": {
        "id": "QzCfBKFI4vxp",
        "colab_type": "code",
        "colab": {}
      },
      "source": [
        "# Split the data into 70% training and 30% test subsets\n",
        "import sklearn.model_selection as cv\n",
        "X_train, X_test, y_train, y_test = cv.train_test_split(X,y,\n",
        "test_size=0.3,\n",
        "stratify=y, random_state=0)"
      ],
      "execution_count": 0,
      "outputs": []
    },
    {
      "cell_type": "code",
      "metadata": {
        "id": "0p_HSho54vx2",
        "colab_type": "code",
        "colab": {}
      },
      "source": [
        "# Standardize the data using StandardScaler \n",
        "# obtain X_train_std and X_test_std\n",
        "\n",
        "from sklearn.preprocessing import StandardScaler\n",
        "\n",
        "sc = StandardScaler()\n",
        "X_train_std = sc.fit_transform(X_train)\n",
        "\n",
        "X_test_std = sc.fit_transform(X_test)"
      ],
      "execution_count": 0,
      "outputs": []
    },
    {
      "cell_type": "code",
      "metadata": {
        "id": "yTAQOCul4vyD",
        "colab_type": "code",
        "colab": {}
      },
      "source": [
        "# Apply PCA (2 components) on X_train_std \n",
        "\n",
        "from sklearn.decomposition import PCA\n",
        "\n",
        "pca = PCA(n_components=2)\n",
        "\n",
        "X_train_pca = pca.fit_transform(X_train_std)"
      ],
      "execution_count": 0,
      "outputs": []
    },
    {
      "cell_type": "code",
      "metadata": {
        "id": "wdnW8kEn4vyV",
        "colab_type": "code",
        "colab": {}
      },
      "source": [
        "# Transform X_test_std using PCA\n",
        "X_test_pca = pca.transform(X_train_std)"
      ],
      "execution_count": 0,
      "outputs": []
    },
    {
      "cell_type": "code",
      "metadata": {
        "id": "lU5pnWhI4vyn",
        "colab_type": "code",
        "colab": {},
        "outputId": "746061b8-4fe6-426e-85f8-39ab6ef31b95"
      },
      "source": [
        "# Do scatter plot of the transformed data\n",
        "plt.scatter(X_train_pca[:,0], X_train_pca[:,-1])\n",
        "plt.xlabel('PC 1')\n",
        "plt.ylabel('PC 2')\n",
        "plt.show()"
      ],
      "execution_count": 0,
      "outputs": [
        {
          "output_type": "display_data",
          "data": {
            "image/png": "[encoded data removed]",
            "text/plain": [
              "<Figure size 432x288 with 1 Axes>"
            ]
          },
          "metadata": {
            "tags": []
          }
        }
      ]
    },
    {
      "cell_type": "code",
      "metadata": {
        "id": "0s0JznCW4vy0",
        "colab_type": "code",
        "colab": {},
        "outputId": "0de6a73a-09cf-4519-b2d4-6a594b086461"
      },
      "source": [
        "# Train Logistic Regression classifier without using PCA\n",
        "\n",
        "from sklearn.linear_model import LogisticRegression\n",
        "from plot_decisionregion import *\n",
        "\n",
        "lr_no_pca = LogisticRegression(solver='lbfgs', multi_class='ovr')\n",
        "lr_no_pca = lr_no_pca.fit(X_train[:,:2],y_train)\n",
        "\n",
        "# Use lr_no_pca classifier\n",
        "plot_decision_regions(X_train[:,:2],y_train, classifier=lr_no_pca )\n",
        "plt.xlabel('Dim 1')\n",
        "plt.ylabel('Dim 2')\n",
        "plt.legend(loc='lower left')\n",
        "plt.tight_layout()\n",
        "plt.show()"
      ],
      "execution_count": 0,
      "outputs": [
        {
          "output_type": "display_data",
          "data": {
            "image/png": "[encoded data removed]",
            "text/plain": [
              "<Figure size 432x288 with 1 Axes>"
            ]
          },
          "metadata": {
            "tags": []
          }
        }
      ]
    },
    {
      "cell_type": "code",
      "metadata": {
        "id": "StUN5UgV4vzB",
        "colab_type": "code",
        "colab": {}
      },
      "source": [
        "# Test the model\n",
        "# Use lr_no_pca classifier\n",
        "plot_decision_regions(?, ?, classifier=?) \n",
        "\n",
        "plt.xlabel('Dim 1')\n",
        "plt.ylabel('Dim 2')\n",
        "plt.legend(loc='lower left')\n",
        "plt.tight_layout()\n",
        "plt.show()"
      ],
      "execution_count": 0,
      "outputs": []
    },
    {
      "cell_type": "code",
      "metadata": {
        "id": "BQGetVM-4vzI",
        "colab_type": "code",
        "colab": {},
        "outputId": "155bc4af-3770-4099-eb62-d1048a379977"
      },
      "source": [
        "# Train Logistic Regression classifier using the first 2 principal components\n",
        "\n",
        "from sklearn.linear_model import LogisticRegression\n",
        "from plot_decisionregion import *\n",
        "\n",
        "lr_pca = LinearRegression(solver='lbfgs', multi_class=?)\n",
        "lr_pca = ?\n",
        "\n",
        "plot_decision_regions(X_train_pca, y_train)\n",
        "plt.xlabel('PC 1')\n",
        "plt.ylabel('PC 2')\n",
        "plt.legend(loc='lower left')\n",
        "plt.tight_layout()\n",
        "plt.show()"
      ],
      "execution_count": 0,
      "outputs": [
        {
          "output_type": "error",
          "ename": "SyntaxError",
          "evalue": "invalid syntax (<ipython-input-77-c778cd713184>, line 6)",
          "traceback": [
            "\u001b[1;36m  File \u001b[1;32m\"<ipython-input-77-c778cd713184>\"\u001b[1;36m, line \u001b[1;32m6\u001b[0m\n\u001b[1;33m    lr_pca = ?(solver='lbfgs', multi_class=?)\u001b[0m\n\u001b[1;37m             ^\u001b[0m\n\u001b[1;31mSyntaxError\u001b[0m\u001b[1;31m:\u001b[0m invalid syntax\n"
          ]
        }
      ]
    },
    {
      "cell_type": "code",
      "metadata": {
        "id": "YQiUsikx4vzV",
        "colab_type": "code",
        "colab": {}
      },
      "source": [
        "# Test the model\n",
        "from sklearn.linear_model import LogisticRegress\n",
        "plot_decision_regions(?, ?, classifier=?)               \n",
        "\n",
        "plt.xlabel('PC 1')\n",
        "plt.ylabel('PC 2')\n",
        "plt.legend(loc='lower left')\n",
        "plt.tight_layout()\n",
        "plt.show()"
      ],
      "execution_count": 0,
      "outputs": []
    }
  ]
}