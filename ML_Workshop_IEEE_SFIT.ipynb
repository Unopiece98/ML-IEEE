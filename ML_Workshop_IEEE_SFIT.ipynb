{
  "nbformat": 4,
  "nbformat_minor": 0,
  "metadata": {
    "kernelspec": {
      "display_name": "Python 3",
      "language": "python",
      "name": "python3"
    },
    "language_info": {
      "codemirror_mode": {
        "name": "ipython",
        "version": 3
      },
      "file_extension": ".py",
      "mimetype": "text/x-python",
      "name": "python",
      "nbconvert_exporter": "python",
      "pygments_lexer": "ipython3",
      "version": "3.6.5"
    },
    "colab": {
      "name": "ML_Workshop_IEEE_SFIT.ipynb",
      "provenance": [],
      "toc_visible": true
    }
  },
  "cells": [
    {
      "cell_type": "markdown",
      "metadata": {
        "id": "gLzpHbap4vhW",
        "colab_type": "text"
      },
      "source": [
        "# Machine Learning Workshop\n",
        "\n",
        "### IEEE SFIT, Jan 2019\n",
        "\n",
        "\n",
        "### **Instructor**: Santosh Chapaneri"
      ]
    },
    {
      "cell_type": "markdown",
      "metadata": {
        "id": "UPgDF2hj4vhi",
        "colab_type": "text"
      },
      "source": [
        "# Logistic Regression: Predicting who will survive on the Titanic "
      ]
    },
    {
      "cell_type": "code",
      "metadata": {
        "id": "G4oyRHPb4vho",
        "colab_type": "code",
        "colab": {
          "base_uri": "https://localhost:8080/",
          "height": 122
        },
        "outputId": "15710f2b-245e-4a8e-a2f2-4a5308c68c93"
      },
      "source": [
        "from google.colab import drive\n",
        "drive.mount(\"/content/drive\")"
      ],
      "execution_count": 1,
      "outputs": [
        {
          "output_type": "stream",
          "text": [
            "Go to this URL in a browser: https://accounts.google.com/o/oauth2/auth?client_id=947318989803-6bn6qk8qdgf4n4g3pfee6491hc0brc4i.apps.googleusercontent.com&redirect_uri=urn%3aietf%3awg%3aoauth%3a2.0%3aoob&response_type=code&scope=email%20https%3a%2f%2fwww.googleapis.com%2fauth%2fdocs.test%20https%3a%2f%2fwww.googleapis.com%2fauth%2fdrive%20https%3a%2f%2fwww.googleapis.com%2fauth%2fdrive.photos.readonly%20https%3a%2f%2fwww.googleapis.com%2fauth%2fpeopleapi.readonly\n",
            "\n",
            "Enter your authorization code:\n",
            "··········\n",
            "Mounted at /content/drive\n"
          ],
          "name": "stdout"
        }
      ]
    },
    {
      "cell_type": "code",
      "metadata": {
        "id": "S5tIJCPj-xGB",
        "colab_type": "code",
        "colab": {}
      },
      "source": [
        "import os\n",
        "os.chdir(r\"/content/drive/My Drive/ML DL IEEE Workshop\")"
      ],
      "execution_count": 0,
      "outputs": []
    },
    {
      "cell_type": "code",
      "metadata": {
        "id": "Ffi66aSL4viD",
        "colab_type": "code",
        "colab": {}
      },
      "source": [
        "import numpy as np\n",
        "import pandas as pd\n",
        "import sklearn\n",
        "import sklearn.linear_model as lm\n",
        "import sklearn.model_selection as cv\n",
        "import matplotlib.pyplot as plt\n",
        "%matplotlib inline"
      ],
      "execution_count": 0,
      "outputs": []
    },
    {
      "cell_type": "code",
      "metadata": {
        "id": "uj6RjSj44via",
        "colab_type": "code",
        "colab": {
          "base_uri": "https://localhost:8080/",
          "height": 382
        },
        "outputId": "3d9be5d4-abaf-4c48-c755-371cd6b516e6"
      },
      "source": [
        "# Load the dataset with Pandas\n",
        "train = pd.read_csv('titanic.csv')\n",
        "train.tail(8)                                                      "
      ],
      "execution_count": 7,
      "outputs": [
        {
          "output_type": "execute_result",
          "data": {
            "text/html": [
              "<div>\n",
              "<style scoped>\n",
              "    .dataframe tbody tr th:only-of-type {\n",
              "        vertical-align: middle;\n",
              "    }\n",
              "\n",
              "    .dataframe tbody tr th {\n",
              "        vertical-align: top;\n",
              "    }\n",
              "\n",
              "    .dataframe thead th {\n",
              "        text-align: right;\n",
              "    }\n",
              "</style>\n",
              "<table border=\"1\" class=\"dataframe\">\n",
              "  <thead>\n",
              "    <tr style=\"text-align: right;\">\n",
              "      <th></th>\n",
              "      <th>PassengerId</th>\n",
              "      <th>Survived</th>\n",
              "      <th>Pclass</th>\n",
              "      <th>Name</th>\n",
              "      <th>Sex</th>\n",
              "      <th>Age</th>\n",
              "      <th>SibSp</th>\n",
              "      <th>Parch</th>\n",
              "      <th>Ticket</th>\n",
              "      <th>Fare</th>\n",
              "      <th>Cabin</th>\n",
              "      <th>Embarked</th>\n",
              "    </tr>\n",
              "  </thead>\n",
              "  <tbody>\n",
              "    <tr>\n",
              "      <th>883</th>\n",
              "      <td>884</td>\n",
              "      <td>0</td>\n",
              "      <td>2</td>\n",
              "      <td>Banfield, Mr. Frederick James</td>\n",
              "      <td>male</td>\n",
              "      <td>28.0</td>\n",
              "      <td>0</td>\n",
              "      <td>0</td>\n",
              "      <td>C.A./SOTON 34068</td>\n",
              "      <td>10.500</td>\n",
              "      <td>NaN</td>\n",
              "      <td>S</td>\n",
              "    </tr>\n",
              "    <tr>\n",
              "      <th>884</th>\n",
              "      <td>885</td>\n",
              "      <td>0</td>\n",
              "      <td>3</td>\n",
              "      <td>Sutehall, Mr. Henry Jr</td>\n",
              "      <td>male</td>\n",
              "      <td>25.0</td>\n",
              "      <td>0</td>\n",
              "      <td>0</td>\n",
              "      <td>SOTON/OQ 392076</td>\n",
              "      <td>7.050</td>\n",
              "      <td>NaN</td>\n",
              "      <td>S</td>\n",
              "    </tr>\n",
              "    <tr>\n",
              "      <th>885</th>\n",
              "      <td>886</td>\n",
              "      <td>0</td>\n",
              "      <td>3</td>\n",
              "      <td>Rice, Mrs. William (Margaret Norton)</td>\n",
              "      <td>female</td>\n",
              "      <td>39.0</td>\n",
              "      <td>0</td>\n",
              "      <td>5</td>\n",
              "      <td>382652</td>\n",
              "      <td>29.125</td>\n",
              "      <td>NaN</td>\n",
              "      <td>Q</td>\n",
              "    </tr>\n",
              "    <tr>\n",
              "      <th>886</th>\n",
              "      <td>887</td>\n",
              "      <td>0</td>\n",
              "      <td>2</td>\n",
              "      <td>Montvila, Rev. Juozas</td>\n",
              "      <td>male</td>\n",
              "      <td>27.0</td>\n",
              "      <td>0</td>\n",
              "      <td>0</td>\n",
              "      <td>211536</td>\n",
              "      <td>13.000</td>\n",
              "      <td>NaN</td>\n",
              "      <td>S</td>\n",
              "    </tr>\n",
              "    <tr>\n",
              "      <th>887</th>\n",
              "      <td>888</td>\n",
              "      <td>1</td>\n",
              "      <td>1</td>\n",
              "      <td>Graham, Miss. Margaret Edith</td>\n",
              "      <td>female</td>\n",
              "      <td>19.0</td>\n",
              "      <td>0</td>\n",
              "      <td>0</td>\n",
              "      <td>112053</td>\n",
              "      <td>30.000</td>\n",
              "      <td>B42</td>\n",
              "      <td>S</td>\n",
              "    </tr>\n",
              "    <tr>\n",
              "      <th>888</th>\n",
              "      <td>889</td>\n",
              "      <td>0</td>\n",
              "      <td>3</td>\n",
              "      <td>Johnston, Miss. Catherine Helen \"Carrie\"</td>\n",
              "      <td>female</td>\n",
              "      <td>NaN</td>\n",
              "      <td>1</td>\n",
              "      <td>2</td>\n",
              "      <td>W./C. 6607</td>\n",
              "      <td>23.450</td>\n",
              "      <td>NaN</td>\n",
              "      <td>S</td>\n",
              "    </tr>\n",
              "    <tr>\n",
              "      <th>889</th>\n",
              "      <td>890</td>\n",
              "      <td>1</td>\n",
              "      <td>1</td>\n",
              "      <td>Behr, Mr. Karl Howell</td>\n",
              "      <td>male</td>\n",
              "      <td>26.0</td>\n",
              "      <td>0</td>\n",
              "      <td>0</td>\n",
              "      <td>111369</td>\n",
              "      <td>30.000</td>\n",
              "      <td>C148</td>\n",
              "      <td>C</td>\n",
              "    </tr>\n",
              "    <tr>\n",
              "      <th>890</th>\n",
              "      <td>891</td>\n",
              "      <td>0</td>\n",
              "      <td>3</td>\n",
              "      <td>Dooley, Mr. Patrick</td>\n",
              "      <td>male</td>\n",
              "      <td>32.0</td>\n",
              "      <td>0</td>\n",
              "      <td>0</td>\n",
              "      <td>370376</td>\n",
              "      <td>7.750</td>\n",
              "      <td>NaN</td>\n",
              "      <td>Q</td>\n",
              "    </tr>\n",
              "  </tbody>\n",
              "</table>\n",
              "</div>"
            ],
            "text/plain": [
              "     PassengerId  Survived  Pclass  ...    Fare Cabin  Embarked\n",
              "883          884         0       2  ...  10.500   NaN         S\n",
              "884          885         0       3  ...   7.050   NaN         S\n",
              "885          886         0       3  ...  29.125   NaN         Q\n",
              "886          887         0       2  ...  13.000   NaN         S\n",
              "887          888         1       1  ...  30.000   B42         S\n",
              "888          889         0       3  ...  23.450   NaN         S\n",
              "889          890         1       1  ...  30.000  C148         C\n",
              "890          891         0       3  ...   7.750   NaN         Q\n",
              "\n",
              "[8 rows x 12 columns]"
            ]
          },
          "metadata": {
            "tags": []
          },
          "execution_count": 7
        }
      ]
    },
    {
      "cell_type": "code",
      "metadata": {
        "id": "-HbBbhvs4viw",
        "colab_type": "code",
        "colab": {
          "base_uri": "https://localhost:8080/",
          "height": 204
        },
        "outputId": "18c26951-ce0b-49d4-e9df-1cae4b900a1b"
      },
      "source": [
        "#Observe columns Pclass, Sex, Age, Survived \n",
        "train[train.columns[[2,4,5,1]]].head()                            "
      ],
      "execution_count": 8,
      "outputs": [
        {
          "output_type": "execute_result",
          "data": {
            "text/html": [
              "<div>\n",
              "<style scoped>\n",
              "    .dataframe tbody tr th:only-of-type {\n",
              "        vertical-align: middle;\n",
              "    }\n",
              "\n",
              "    .dataframe tbody tr th {\n",
              "        vertical-align: top;\n",
              "    }\n",
              "\n",
              "    .dataframe thead th {\n",
              "        text-align: right;\n",
              "    }\n",
              "</style>\n",
              "<table border=\"1\" class=\"dataframe\">\n",
              "  <thead>\n",
              "    <tr style=\"text-align: right;\">\n",
              "      <th></th>\n",
              "      <th>Pclass</th>\n",
              "      <th>Sex</th>\n",
              "      <th>Age</th>\n",
              "      <th>Survived</th>\n",
              "    </tr>\n",
              "  </thead>\n",
              "  <tbody>\n",
              "    <tr>\n",
              "      <th>0</th>\n",
              "      <td>3</td>\n",
              "      <td>male</td>\n",
              "      <td>22.0</td>\n",
              "      <td>0</td>\n",
              "    </tr>\n",
              "    <tr>\n",
              "      <th>1</th>\n",
              "      <td>1</td>\n",
              "      <td>female</td>\n",
              "      <td>38.0</td>\n",
              "      <td>1</td>\n",
              "    </tr>\n",
              "    <tr>\n",
              "      <th>2</th>\n",
              "      <td>3</td>\n",
              "      <td>female</td>\n",
              "      <td>26.0</td>\n",
              "      <td>1</td>\n",
              "    </tr>\n",
              "    <tr>\n",
              "      <th>3</th>\n",
              "      <td>1</td>\n",
              "      <td>female</td>\n",
              "      <td>35.0</td>\n",
              "      <td>1</td>\n",
              "    </tr>\n",
              "    <tr>\n",
              "      <th>4</th>\n",
              "      <td>3</td>\n",
              "      <td>male</td>\n",
              "      <td>35.0</td>\n",
              "      <td>0</td>\n",
              "    </tr>\n",
              "  </tbody>\n",
              "</table>\n",
              "</div>"
            ],
            "text/plain": [
              "   Pclass     Sex   Age  Survived\n",
              "0       3    male  22.0         0\n",
              "1       1  female  38.0         1\n",
              "2       3  female  26.0         1\n",
              "3       1  female  35.0         1\n",
              "4       3    male  35.0         0"
            ]
          },
          "metadata": {
            "tags": []
          },
          "execution_count": 8
        }
      ]
    },
    {
      "cell_type": "code",
      "metadata": {
        "id": "46sxPE6V4vjI",
        "colab_type": "code",
        "colab": {
          "base_uri": "https://localhost:8080/",
          "height": 204
        },
        "outputId": "7f540a58-1f62-45ac-e5a9-fdaaa5fe939f"
      },
      "source": [
        "data = train[['Sex', 'Age', 'Pclass', 'Survived']].copy()\n",
        "data['Sex'] = data['Sex'] == 'female'                                        \n",
        "data = data.dropna()                                                         \n",
        "data.head()                                                                  "
      ],
      "execution_count": 9,
      "outputs": [
        {
          "output_type": "execute_result",
          "data": {
            "text/html": [
              "<div>\n",
              "<style scoped>\n",
              "    .dataframe tbody tr th:only-of-type {\n",
              "        vertical-align: middle;\n",
              "    }\n",
              "\n",
              "    .dataframe tbody tr th {\n",
              "        vertical-align: top;\n",
              "    }\n",
              "\n",
              "    .dataframe thead th {\n",
              "        text-align: right;\n",
              "    }\n",
              "</style>\n",
              "<table border=\"1\" class=\"dataframe\">\n",
              "  <thead>\n",
              "    <tr style=\"text-align: right;\">\n",
              "      <th></th>\n",
              "      <th>Sex</th>\n",
              "      <th>Age</th>\n",
              "      <th>Pclass</th>\n",
              "      <th>Survived</th>\n",
              "    </tr>\n",
              "  </thead>\n",
              "  <tbody>\n",
              "    <tr>\n",
              "      <th>0</th>\n",
              "      <td>False</td>\n",
              "      <td>22.0</td>\n",
              "      <td>3</td>\n",
              "      <td>0</td>\n",
              "    </tr>\n",
              "    <tr>\n",
              "      <th>1</th>\n",
              "      <td>True</td>\n",
              "      <td>38.0</td>\n",
              "      <td>1</td>\n",
              "      <td>1</td>\n",
              "    </tr>\n",
              "    <tr>\n",
              "      <th>2</th>\n",
              "      <td>True</td>\n",
              "      <td>26.0</td>\n",
              "      <td>3</td>\n",
              "      <td>1</td>\n",
              "    </tr>\n",
              "    <tr>\n",
              "      <th>3</th>\n",
              "      <td>True</td>\n",
              "      <td>35.0</td>\n",
              "      <td>1</td>\n",
              "      <td>1</td>\n",
              "    </tr>\n",
              "    <tr>\n",
              "      <th>4</th>\n",
              "      <td>False</td>\n",
              "      <td>35.0</td>\n",
              "      <td>3</td>\n",
              "      <td>0</td>\n",
              "    </tr>\n",
              "  </tbody>\n",
              "</table>\n",
              "</div>"
            ],
            "text/plain": [
              "     Sex   Age  Pclass  Survived\n",
              "0  False  22.0       3         0\n",
              "1   True  38.0       1         1\n",
              "2   True  26.0       3         1\n",
              "3   True  35.0       1         1\n",
              "4  False  35.0       3         0"
            ]
          },
          "metadata": {
            "tags": []
          },
          "execution_count": 9
        }
      ]
    },
    {
      "cell_type": "code",
      "metadata": {
        "id": "7_1VdKj14vjf",
        "colab_type": "code",
        "colab": {
          "base_uri": "https://localhost:8080/",
          "height": 119
        },
        "outputId": "b58b40c0-bbc1-4ad9-8fa2-72762ceb2ced"
      },
      "source": [
        "data_np = data.astype(np.int32).values                                         \n",
        "X = data_np[:,:-1]                                               \n",
        "y = data_np[:,-1] \n",
        "print(X[:5,:])\n",
        "print(y[:5])"
      ],
      "execution_count": 10,
      "outputs": [
        {
          "output_type": "stream",
          "text": [
            "[[ 0 22  3]\n",
            " [ 1 38  1]\n",
            " [ 1 26  3]\n",
            " [ 1 35  1]\n",
            " [ 0 35  3]]\n",
            "[0 1 1 1 0]\n"
          ],
          "name": "stdout"
        }
      ]
    },
    {
      "cell_type": "code",
      "metadata": {
        "id": "umwoMPOJ4vkA",
        "colab_type": "code",
        "colab": {
          "base_uri": "https://localhost:8080/",
          "height": 34
        },
        "outputId": "d52135d7-a064-4578-fb22-b1ec696abb23"
      },
      "source": [
        "X.shape"
      ],
      "execution_count": 11,
      "outputs": [
        {
          "output_type": "execute_result",
          "data": {
            "text/plain": [
              "(714, 3)"
            ]
          },
          "metadata": {
            "tags": []
          },
          "execution_count": 11
        }
      ]
    },
    {
      "cell_type": "code",
      "metadata": {
        "id": "7381CqIk4vkX",
        "colab_type": "code",
        "colab": {
          "base_uri": "https://localhost:8080/",
          "height": 34
        },
        "outputId": "db9df936-ec41-4830-8c72-92e284d81c4d"
      },
      "source": [
        "y.shape"
      ],
      "execution_count": 12,
      "outputs": [
        {
          "output_type": "execute_result",
          "data": {
            "text/plain": [
              "(714,)"
            ]
          },
          "metadata": {
            "tags": []
          },
          "execution_count": 12
        }
      ]
    },
    {
      "cell_type": "code",
      "metadata": {
        "id": "wItPbrHK4vkk",
        "colab_type": "code",
        "colab": {}
      },
      "source": [
        "female = (X[:,0]==1)\n",
        "survived = (y ==1)\n",
        "\n",
        "age = X[:,1]\n",
        "\n",
        "# Compute few histograms\n",
        "mybins = np.arange(0, 81, 5)\n",
        "S = {'male': np.histogram(age[survived & ~female], \n",
        "                          bins=mybins)[0],\n",
        "     'female': np.histogram(age[survived & female], \n",
        "                            bins=mybins)[0]}\n",
        "D = {'male': np.histogram(age[~survived & ~female], \n",
        "                          bins=mybins)[0],\n",
        "     'female': np.histogram(age[~survived & female], \n",
        "                            bins=mybins)[0]}"
      ],
      "execution_count": 0,
      "outputs": []
    },
    {
      "cell_type": "code",
      "metadata": {
        "id": "cnJCOZyh4vlD",
        "colab_type": "code",
        "colab": {
          "base_uri": "https://localhost:8080/",
          "height": 241
        },
        "outputId": "60c321cf-ff06-45e8-8ccc-ac858f3af190"
      },
      "source": [
        "bins = mybins[:-1]\n",
        "plt.figure(figsize=(10,3));\n",
        "for i, sex, color in zip((0, 1),\n",
        "                         ('male', 'female'),\n",
        "                         ('#3345d0', '#cc3dc0')):\n",
        "    plt.subplot(121 + i);\n",
        "    plt.bar(bins, S[sex], bottom=D[sex], color=color,\n",
        "            width=5, label='survived');\n",
        "    plt.bar(bins, D[sex], color='k', width=5, label='died');\n",
        "    plt.xlim(0, 80);\n",
        "    plt.grid(None);\n",
        "    plt.title(sex + \" survival\");\n",
        "    plt.xlabel(\"Age (years)\");\n",
        "    plt.legend();"
      ],
      "execution_count": 14,
      "outputs": [
        {
          "output_type": "display_data",
          "data": {
            "image/png": "[encoded data removed]",
            "text/plain": [
              "<Figure size 720x216 with 2 Axes>"
            ]
          },
          "metadata": {
            "tags": []
          }
        }
      ]
    },
    {
      "cell_type": "code",
      "metadata": {
        "id": "wfxX-u4W4vlg",
        "colab_type": "code",
        "colab": {}
      },
      "source": [
        "(X_train, X_test, y_train, y_test) = cv.train_test_split(X, y, test_size=.25)"
      ],
      "execution_count": 0,
      "outputs": []
    },
    {
      "cell_type": "code",
      "metadata": {
        "id": "SDtPbIe94vl0",
        "colab_type": "code",
        "colab": {
          "base_uri": "https://localhost:8080/",
          "height": 34
        },
        "outputId": "1e288503-7a8c-448e-ff4d-f4e1f72f42bf"
      },
      "source": [
        "X_train.shape"
      ],
      "execution_count": 16,
      "outputs": [
        {
          "output_type": "execute_result",
          "data": {
            "text/plain": [
              "(535, 3)"
            ]
          },
          "metadata": {
            "tags": []
          },
          "execution_count": 16
        }
      ]
    },
    {
      "cell_type": "code",
      "metadata": {
        "id": "MSGSGU9E4vmG",
        "colab_type": "code",
        "colab": {
          "base_uri": "https://localhost:8080/",
          "height": 34
        },
        "outputId": "a9f5ba36-6d30-4217-e375-6c1b3bf1100a"
      },
      "source": [
        "X_test.shape"
      ],
      "execution_count": 17,
      "outputs": [
        {
          "output_type": "execute_result",
          "data": {
            "text/plain": [
              "(179, 3)"
            ]
          },
          "metadata": {
            "tags": []
          },
          "execution_count": 17
        }
      ]
    },
    {
      "cell_type": "code",
      "metadata": {
        "id": "6TkEk1us4vmW",
        "colab_type": "code",
        "colab": {
          "base_uri": "https://localhost:8080/",
          "height": 102
        },
        "outputId": "58e156b6-9222-46aa-b7aa-0c9b04feb6e6"
      },
      "source": [
        "X_train[:5,:]"
      ],
      "execution_count": 18,
      "outputs": [
        {
          "output_type": "execute_result",
          "data": {
            "text/plain": [
              "array([[ 1,  7,  2],\n",
              "       [ 0, 24,  3],\n",
              "       [ 1, 26,  3],\n",
              "       [ 0,  1,  3],\n",
              "       [ 1, 34,  2]], dtype=int32)"
            ]
          },
          "metadata": {
            "tags": []
          },
          "execution_count": 18
        }
      ]
    },
    {
      "cell_type": "code",
      "metadata": {
        "id": "fQmDg0tk4vmm",
        "colab_type": "code",
        "colab": {}
      },
      "source": [
        "#instantiate the classifier / 'create the model'\n",
        "logreg = lm.LogisticRegression(solver='lbfgs')"
      ],
      "execution_count": 0,
      "outputs": []
    },
    {
      "cell_type": "code",
      "metadata": {
        "id": "OcLobk5c4vm-",
        "colab_type": "code",
        "colab": {}
      },
      "source": [
        "logreg.fit(X_train, y_train)                                        \n",
        "y_predicted = logreg.predict(X_test)"
      ],
      "execution_count": 0,
      "outputs": []
    },
    {
      "cell_type": "code",
      "metadata": {
        "id": "qZFC61G_4vnW",
        "colab_type": "code",
        "colab": {
          "base_uri": "https://localhost:8080/",
          "height": 34
        },
        "outputId": "263028b5-e297-437c-e28d-cb9d2f7d7887"
      },
      "source": [
        "y_test[:5]"
      ],
      "execution_count": 21,
      "outputs": [
        {
          "output_type": "execute_result",
          "data": {
            "text/plain": [
              "array([0, 0, 1, 0, 0], dtype=int32)"
            ]
          },
          "metadata": {
            "tags": []
          },
          "execution_count": 21
        }
      ]
    },
    {
      "cell_type": "code",
      "metadata": {
        "id": "lfOq1jCR4vnn",
        "colab_type": "code",
        "colab": {
          "base_uri": "https://localhost:8080/",
          "height": 34
        },
        "outputId": "663701f3-1cd7-446d-c335-13219f833922"
      },
      "source": [
        "y_predicted[:5]"
      ],
      "execution_count": 22,
      "outputs": [
        {
          "output_type": "execute_result",
          "data": {
            "text/plain": [
              "array([0, 0, 0, 1, 0], dtype=int32)"
            ]
          },
          "metadata": {
            "tags": []
          },
          "execution_count": 22
        }
      ]
    },
    {
      "cell_type": "code",
      "metadata": {
        "id": "wTSO-zEb4vn2",
        "colab_type": "code",
        "colab": {
          "base_uri": "https://localhost:8080/",
          "height": 34
        },
        "outputId": "fc44ca99-f022-49ba-a455-f0ac13fbcacf"
      },
      "source": [
        "from sklearn.metrics import accuracy_score\n",
        "accuracy_score(y_test, y_predicted)"
      ],
      "execution_count": 23,
      "outputs": [
        {
          "output_type": "execute_result",
          "data": {
            "text/plain": [
              "0.7821229050279329"
            ]
          },
          "metadata": {
            "tags": []
          },
          "execution_count": 23
        }
      ]
    },
    {
      "cell_type": "code",
      "metadata": {
        "id": "3d9Xb8P54voC",
        "colab_type": "code",
        "colab": {
          "base_uri": "https://localhost:8080/",
          "height": 170
        },
        "outputId": "6da60eed-d080-4ae6-fce1-35c16bed2f79"
      },
      "source": [
        "from sklearn.metrics import classification_report\n",
        "print(classification_report(y_test, y_predicted))"
      ],
      "execution_count": 24,
      "outputs": [
        {
          "output_type": "stream",
          "text": [
            "              precision    recall  f1-score   support\n",
            "\n",
            "           0       0.80      0.84      0.82       105\n",
            "           1       0.75      0.70      0.73        74\n",
            "\n",
            "    accuracy                           0.78       179\n",
            "   macro avg       0.78      0.77      0.77       179\n",
            "weighted avg       0.78      0.78      0.78       179\n",
            "\n"
          ],
          "name": "stdout"
        }
      ]
    },
    {
      "cell_type": "code",
      "metadata": {
        "id": "6a2srfSc4voV",
        "colab_type": "code",
        "colab": {
          "base_uri": "https://localhost:8080/",
          "height": 51
        },
        "outputId": "323ec981-d89b-452d-d581-00aa2085394f"
      },
      "source": [
        "from sklearn.metrics import confusion_matrix\n",
        "print(confusion_matrix(y_test, y_predicted)) "
      ],
      "execution_count": 25,
      "outputs": [
        {
          "output_type": "stream",
          "text": [
            "[[88 17]\n",
            " [22 52]]\n"
          ],
          "name": "stdout"
        }
      ]
    },
    {
      "cell_type": "code",
      "metadata": {
        "id": "9TySpTc64vom",
        "colab_type": "code",
        "colab": {
          "base_uri": "https://localhost:8080/",
          "height": 411
        },
        "outputId": "0b7dcd98-6b9a-4bf6-f6ca-eb2d3a9683ee"
      },
      "source": [
        "# Run Logistic Regression on the IRIS Dataset\n",
        "import sklearn.datasets as ds\n",
        "iris = ds.load_iris()\n",
        "X, y = iris.data, iris.target\n",
        "(X_train, X_test, y_train, y_test) = cv.train_test_split(X, y, test_size=.25)\n",
        "\n",
        "logreg = lm.LogisticRegression(solver='lbfgs')\n",
        "logreg.fit(X_train, y_train)                                        \n",
        "y_predicted = logreg.predict(X_test)\n",
        "\n",
        "from sklearn.metrics import accuracy_score\n",
        "print(accuracy_score(y_test, y_predicted))\n",
        "print(classification_report(y_test, y_predicted)) \n",
        "print(confusion_matrix(y_test, y_predicted)) "
      ],
      "execution_count": 26,
      "outputs": [
        {
          "output_type": "stream",
          "text": [
            "0.9736842105263158\n",
            "              precision    recall  f1-score   support\n",
            "\n",
            "           0       1.00      1.00      1.00         7\n",
            "           1       1.00      0.94      0.97        16\n",
            "           2       0.94      1.00      0.97        15\n",
            "\n",
            "    accuracy                           0.97        38\n",
            "   macro avg       0.98      0.98      0.98        38\n",
            "weighted avg       0.98      0.97      0.97        38\n",
            "\n",
            "[[ 7  0  0]\n",
            " [ 0 15  1]\n",
            " [ 0  0 15]]\n"
          ],
          "name": "stdout"
        },
        {
          "output_type": "stream",
          "text": [
            "/usr/local/lib/python3.6/dist-packages/sklearn/linear_model/_logistic.py:940: ConvergenceWarning: lbfgs failed to converge (status=1):\n",
            "STOP: TOTAL NO. of ITERATIONS REACHED LIMIT.\n",
            "\n",
            "Increase the number of iterations (max_iter) or scale the data as shown in:\n",
            "    https://scikit-learn.org/stable/modules/preprocessing.html\n",
            "Please also refer to the documentation for alternative solver options:\n",
            "    https://scikit-learn.org/stable/modules/linear_model.html#logistic-regression\n",
            "  extra_warning_msg=_LOGISTIC_SOLVER_CONVERGENCE_MSG)\n"
          ],
          "name": "stderr"
        }
      ]
    },
    {
      "cell_type": "markdown",
      "metadata": {
        "id": "WM7CF4tM4vo4",
        "colab_type": "text"
      },
      "source": [
        "========================================================================"
      ]
    },
    {
      "cell_type": "markdown",
      "metadata": {
        "id": "d3HpQmpF4vo7",
        "colab_type": "text"
      },
      "source": [
        "# Support Vector Machines: Classification"
      ]
    },
    {
      "cell_type": "code",
      "metadata": {
        "id": "zv9MTOjJ4vo_",
        "colab_type": "code",
        "colab": {}
      },
      "source": [
        "import numpy as np\n",
        "import pandas as pd\n",
        "import sklearn.datasets as ds\n",
        "import sklearn.model_selection as cv\n",
        "import sklearn.svm as svm\n",
        "import matplotlib.pyplot as plt\n",
        "%matplotlib inline"
      ],
      "execution_count": 0,
      "outputs": []
    },
    {
      "cell_type": "code",
      "metadata": {
        "id": "c9P2btmw4vpO",
        "colab_type": "code",
        "colab": {
          "base_uri": "https://localhost:8080/",
          "height": 221
        },
        "outputId": "2daa130f-155d-4b6e-ebfa-2c2859c25eb2"
      },
      "source": [
        "X = np.random.randn(200, 2)                                                  \n",
        "y = (X[:, 0] + X[:, 1]) > 1 \n",
        "\n",
        "X[:10], y[:10]                                                               "
      ],
      "execution_count": 28,
      "outputs": [
        {
          "output_type": "execute_result",
          "data": {
            "text/plain": [
              "(array([[ 0.86501278, -0.82435103],\n",
              "        [ 1.55540162, -1.25080009],\n",
              "        [-1.25410567,  1.25814843],\n",
              "        [-0.54347014, -0.14413038],\n",
              "        [-0.29565863, -0.92732464],\n",
              "        [-2.59272037, -0.95672208],\n",
              "        [ 0.54359482, -1.85136105],\n",
              "        [ 0.16432512,  0.23182707],\n",
              "        [-0.4295975 , -0.45518223],\n",
              "        [ 0.69811383, -0.99886678]]),\n",
              " array([False, False, False, False, False, False, False, False, False,\n",
              "        False]))"
            ]
          },
          "metadata": {
            "tags": []
          },
          "execution_count": 28
        }
      ]
    },
    {
      "cell_type": "code",
      "metadata": {
        "id": "ah9QRwqk4vpd",
        "colab_type": "code",
        "colab": {
          "base_uri": "https://localhost:8080/",
          "height": 85
        },
        "outputId": "bb519b25-232f-4861-fba0-bac5d52fc0d0"
      },
      "source": [
        "est = svm.LinearSVC()\n",
        "est.fit(X, y)"
      ],
      "execution_count": 29,
      "outputs": [
        {
          "output_type": "execute_result",
          "data": {
            "text/plain": [
              "LinearSVC(C=1.0, class_weight=None, dual=True, fit_intercept=True,\n",
              "          intercept_scaling=1, loss='squared_hinge', max_iter=1000,\n",
              "          multi_class='ovr', penalty='l2', random_state=None, tol=0.0001,\n",
              "          verbose=0)"
            ]
          },
          "metadata": {
            "tags": []
          },
          "execution_count": 29
        }
      ]
    },
    {
      "cell_type": "code",
      "metadata": {
        "id": "49r9GJqk4vps",
        "colab_type": "code",
        "colab": {
          "base_uri": "https://localhost:8080/",
          "height": 339
        },
        "outputId": "200d688b-aaea-4db9-e370-a62b79fcd6c0"
      },
      "source": [
        "from plot_decisionfun import *\n",
        "plot_decision_function(est, X, y)                                  \n",
        "plt.title(\"Linearly separable, linear SVC\")"
      ],
      "execution_count": 30,
      "outputs": [
        {
          "output_type": "execute_result",
          "data": {
            "text/plain": [
              "Text(0.5, 1.0, 'Linearly separable, linear SVC')"
            ]
          },
          "metadata": {
            "tags": []
          },
          "execution_count": 30
        },
        {
          "output_type": "display_data",
          "data": {
            "image/png": "[encoded data removed]",
            "text/plain": [
              "<Figure size 360x360 with 1 Axes>"
            ]
          },
          "metadata": {
            "tags": []
          }
        }
      ]
    },
    {
      "cell_type": "code",
      "metadata": {
        "id": "4rf-3Xr44vp-",
        "colab_type": "code",
        "colab": {
          "base_uri": "https://localhost:8080/",
          "height": 1000
        },
        "outputId": "e2d3a6fd-c559-4842-c934-b5875e565806"
      },
      "source": [
        "from sklearn.model_selection import GridSearchCV\n",
        "\n",
        "y = np.logical_xor(X[:, 0] > 0, X[:, 1] > 0)                                              \n",
        "\n",
        "# Train the classifier\n",
        "est = GridSearchCV(svm.LinearSVC(), \n",
        "                      {'C': np.logspace(-3., 3., 10)}, cv = 3)\n",
        "est.fit(X, y)                                                         \n",
        "\n",
        "print(\"Score: {0:.1f}\".format(cv.cross_val_score(est, X, y).mean()))\n",
        "\n",
        "# Plot the decision function\n",
        "plot_decision_function(est, X, y) \n",
        "plt.title(\"XOR, linear SVC\")"
      ],
      "execution_count": 31,
      "outputs": [
        {
          "output_type": "stream",
          "text": [
            "/usr/local/lib/python3.6/dist-packages/sklearn/svm/_base.py:947: ConvergenceWarning: Liblinear failed to converge, increase the number of iterations.\n",
            "  \"the number of iterations.\", ConvergenceWarning)\n",
            "/usr/local/lib/python3.6/dist-packages/sklearn/svm/_base.py:947: ConvergenceWarning: Liblinear failed to converge, increase the number of iterations.\n",
            "  \"the number of iterations.\", ConvergenceWarning)\n",
            "/usr/local/lib/python3.6/dist-packages/sklearn/svm/_base.py:947: ConvergenceWarning: Liblinear failed to converge, increase the number of iterations.\n",
            "  \"the number of iterations.\", ConvergenceWarning)\n",
            "/usr/local/lib/python3.6/dist-packages/sklearn/svm/_base.py:947: ConvergenceWarning: Liblinear failed to converge, increase the number of iterations.\n",
            "  \"the number of iterations.\", ConvergenceWarning)\n",
            "/usr/local/lib/python3.6/dist-packages/sklearn/svm/_base.py:947: ConvergenceWarning: Liblinear failed to converge, increase the number of iterations.\n",
            "  \"the number of iterations.\", ConvergenceWarning)\n",
            "/usr/local/lib/python3.6/dist-packages/sklearn/svm/_base.py:947: ConvergenceWarning: Liblinear failed to converge, increase the number of iterations.\n",
            "  \"the number of iterations.\", ConvergenceWarning)\n",
            "/usr/local/lib/python3.6/dist-packages/sklearn/svm/_base.py:947: ConvergenceWarning: Liblinear failed to converge, increase the number of iterations.\n",
            "  \"the number of iterations.\", ConvergenceWarning)\n",
            "/usr/local/lib/python3.6/dist-packages/sklearn/svm/_base.py:947: ConvergenceWarning: Liblinear failed to converge, increase the number of iterations.\n",
            "  \"the number of iterations.\", ConvergenceWarning)\n",
            "/usr/local/lib/python3.6/dist-packages/sklearn/svm/_base.py:947: ConvergenceWarning: Liblinear failed to converge, increase the number of iterations.\n",
            "  \"the number of iterations.\", ConvergenceWarning)\n",
            "/usr/local/lib/python3.6/dist-packages/sklearn/svm/_base.py:947: ConvergenceWarning: Liblinear failed to converge, increase the number of iterations.\n",
            "  \"the number of iterations.\", ConvergenceWarning)\n",
            "/usr/local/lib/python3.6/dist-packages/sklearn/svm/_base.py:947: ConvergenceWarning: Liblinear failed to converge, increase the number of iterations.\n",
            "  \"the number of iterations.\", ConvergenceWarning)\n",
            "/usr/local/lib/python3.6/dist-packages/sklearn/svm/_base.py:947: ConvergenceWarning: Liblinear failed to converge, increase the number of iterations.\n",
            "  \"the number of iterations.\", ConvergenceWarning)\n",
            "/usr/local/lib/python3.6/dist-packages/sklearn/svm/_base.py:947: ConvergenceWarning: Liblinear failed to converge, increase the number of iterations.\n",
            "  \"the number of iterations.\", ConvergenceWarning)\n",
            "/usr/local/lib/python3.6/dist-packages/sklearn/svm/_base.py:947: ConvergenceWarning: Liblinear failed to converge, increase the number of iterations.\n",
            "  \"the number of iterations.\", ConvergenceWarning)\n",
            "/usr/local/lib/python3.6/dist-packages/sklearn/svm/_base.py:947: ConvergenceWarning: Liblinear failed to converge, increase the number of iterations.\n",
            "  \"the number of iterations.\", ConvergenceWarning)\n",
            "/usr/local/lib/python3.6/dist-packages/sklearn/svm/_base.py:947: ConvergenceWarning: Liblinear failed to converge, increase the number of iterations.\n",
            "  \"the number of iterations.\", ConvergenceWarning)\n",
            "/usr/local/lib/python3.6/dist-packages/sklearn/svm/_base.py:947: ConvergenceWarning: Liblinear failed to converge, increase the number of iterations.\n",
            "  \"the number of iterations.\", ConvergenceWarning)\n",
            "/usr/local/lib/python3.6/dist-packages/sklearn/svm/_base.py:947: ConvergenceWarning: Liblinear failed to converge, increase the number of iterations.\n",
            "  \"the number of iterations.\", ConvergenceWarning)\n",
            "/usr/local/lib/python3.6/dist-packages/sklearn/svm/_base.py:947: ConvergenceWarning: Liblinear failed to converge, increase the number of iterations.\n",
            "  \"the number of iterations.\", ConvergenceWarning)\n",
            "/usr/local/lib/python3.6/dist-packages/sklearn/svm/_base.py:947: ConvergenceWarning: Liblinear failed to converge, increase the number of iterations.\n",
            "  \"the number of iterations.\", ConvergenceWarning)\n",
            "/usr/local/lib/python3.6/dist-packages/sklearn/svm/_base.py:947: ConvergenceWarning: Liblinear failed to converge, increase the number of iterations.\n",
            "  \"the number of iterations.\", ConvergenceWarning)\n",
            "/usr/local/lib/python3.6/dist-packages/sklearn/svm/_base.py:947: ConvergenceWarning: Liblinear failed to converge, increase the number of iterations.\n",
            "  \"the number of iterations.\", ConvergenceWarning)\n",
            "/usr/local/lib/python3.6/dist-packages/sklearn/svm/_base.py:947: ConvergenceWarning: Liblinear failed to converge, increase the number of iterations.\n",
            "  \"the number of iterations.\", ConvergenceWarning)\n",
            "/usr/local/lib/python3.6/dist-packages/sklearn/svm/_base.py:947: ConvergenceWarning: Liblinear failed to converge, increase the number of iterations.\n",
            "  \"the number of iterations.\", ConvergenceWarning)\n",
            "/usr/local/lib/python3.6/dist-packages/sklearn/svm/_base.py:947: ConvergenceWarning: Liblinear failed to converge, increase the number of iterations.\n",
            "  \"the number of iterations.\", ConvergenceWarning)\n",
            "/usr/local/lib/python3.6/dist-packages/sklearn/svm/_base.py:947: ConvergenceWarning: Liblinear failed to converge, increase the number of iterations.\n",
            "  \"the number of iterations.\", ConvergenceWarning)\n",
            "/usr/local/lib/python3.6/dist-packages/sklearn/svm/_base.py:947: ConvergenceWarning: Liblinear failed to converge, increase the number of iterations.\n",
            "  \"the number of iterations.\", ConvergenceWarning)\n",
            "/usr/local/lib/python3.6/dist-packages/sklearn/svm/_base.py:947: ConvergenceWarning: Liblinear failed to converge, increase the number of iterations.\n",
            "  \"the number of iterations.\", ConvergenceWarning)\n",
            "/usr/local/lib/python3.6/dist-packages/sklearn/svm/_base.py:947: ConvergenceWarning: Liblinear failed to converge, increase the number of iterations.\n",
            "  \"the number of iterations.\", ConvergenceWarning)\n",
            "/usr/local/lib/python3.6/dist-packages/sklearn/svm/_base.py:947: ConvergenceWarning: Liblinear failed to converge, increase the number of iterations.\n",
            "  \"the number of iterations.\", ConvergenceWarning)\n",
            "/usr/local/lib/python3.6/dist-packages/sklearn/svm/_base.py:947: ConvergenceWarning: Liblinear failed to converge, increase the number of iterations.\n",
            "  \"the number of iterations.\", ConvergenceWarning)\n",
            "/usr/local/lib/python3.6/dist-packages/sklearn/svm/_base.py:947: ConvergenceWarning: Liblinear failed to converge, increase the number of iterations.\n",
            "  \"the number of iterations.\", ConvergenceWarning)\n",
            "/usr/local/lib/python3.6/dist-packages/sklearn/svm/_base.py:947: ConvergenceWarning: Liblinear failed to converge, increase the number of iterations.\n",
            "  \"the number of iterations.\", ConvergenceWarning)\n",
            "/usr/local/lib/python3.6/dist-packages/sklearn/svm/_base.py:947: ConvergenceWarning: Liblinear failed to converge, increase the number of iterations.\n",
            "  \"the number of iterations.\", ConvergenceWarning)\n",
            "/usr/local/lib/python3.6/dist-packages/sklearn/svm/_base.py:947: ConvergenceWarning: Liblinear failed to converge, increase the number of iterations.\n",
            "  \"the number of iterations.\", ConvergenceWarning)\n",
            "/usr/local/lib/python3.6/dist-packages/sklearn/svm/_base.py:947: ConvergenceWarning: Liblinear failed to converge, increase the number of iterations.\n",
            "  \"the number of iterations.\", ConvergenceWarning)\n",
            "/usr/local/lib/python3.6/dist-packages/sklearn/svm/_base.py:947: ConvergenceWarning: Liblinear failed to converge, increase the number of iterations.\n",
            "  \"the number of iterations.\", ConvergenceWarning)\n",
            "/usr/local/lib/python3.6/dist-packages/sklearn/svm/_base.py:947: ConvergenceWarning: Liblinear failed to converge, increase the number of iterations.\n",
            "  \"the number of iterations.\", ConvergenceWarning)\n",
            "/usr/local/lib/python3.6/dist-packages/sklearn/svm/_base.py:947: ConvergenceWarning: Liblinear failed to converge, increase the number of iterations.\n",
            "  \"the number of iterations.\", ConvergenceWarning)\n",
            "/usr/local/lib/python3.6/dist-packages/sklearn/svm/_base.py:947: ConvergenceWarning: Liblinear failed to converge, increase the number of iterations.\n",
            "  \"the number of iterations.\", ConvergenceWarning)\n",
            "/usr/local/lib/python3.6/dist-packages/sklearn/svm/_base.py:947: ConvergenceWarning: Liblinear failed to converge, increase the number of iterations.\n",
            "  \"the number of iterations.\", ConvergenceWarning)\n",
            "/usr/local/lib/python3.6/dist-packages/sklearn/svm/_base.py:947: ConvergenceWarning: Liblinear failed to converge, increase the number of iterations.\n",
            "  \"the number of iterations.\", ConvergenceWarning)\n",
            "/usr/local/lib/python3.6/dist-packages/sklearn/svm/_base.py:947: ConvergenceWarning: Liblinear failed to converge, increase the number of iterations.\n",
            "  \"the number of iterations.\", ConvergenceWarning)\n",
            "/usr/local/lib/python3.6/dist-packages/sklearn/svm/_base.py:947: ConvergenceWarning: Liblinear failed to converge, increase the number of iterations.\n",
            "  \"the number of iterations.\", ConvergenceWarning)\n",
            "/usr/local/lib/python3.6/dist-packages/sklearn/svm/_base.py:947: ConvergenceWarning: Liblinear failed to converge, increase the number of iterations.\n",
            "  \"the number of iterations.\", ConvergenceWarning)\n",
            "/usr/local/lib/python3.6/dist-packages/sklearn/svm/_base.py:947: ConvergenceWarning: Liblinear failed to converge, increase the number of iterations.\n",
            "  \"the number of iterations.\", ConvergenceWarning)\n",
            "/usr/local/lib/python3.6/dist-packages/sklearn/svm/_base.py:947: ConvergenceWarning: Liblinear failed to converge, increase the number of iterations.\n",
            "  \"the number of iterations.\", ConvergenceWarning)\n",
            "/usr/local/lib/python3.6/dist-packages/sklearn/svm/_base.py:947: ConvergenceWarning: Liblinear failed to converge, increase the number of iterations.\n",
            "  \"the number of iterations.\", ConvergenceWarning)\n",
            "/usr/local/lib/python3.6/dist-packages/sklearn/svm/_base.py:947: ConvergenceWarning: Liblinear failed to converge, increase the number of iterations.\n",
            "  \"the number of iterations.\", ConvergenceWarning)\n",
            "/usr/local/lib/python3.6/dist-packages/sklearn/svm/_base.py:947: ConvergenceWarning: Liblinear failed to converge, increase the number of iterations.\n",
            "  \"the number of iterations.\", ConvergenceWarning)\n",
            "/usr/local/lib/python3.6/dist-packages/sklearn/svm/_base.py:947: ConvergenceWarning: Liblinear failed to converge, increase the number of iterations.\n",
            "  \"the number of iterations.\", ConvergenceWarning)\n",
            "/usr/local/lib/python3.6/dist-packages/sklearn/svm/_base.py:947: ConvergenceWarning: Liblinear failed to converge, increase the number of iterations.\n",
            "  \"the number of iterations.\", ConvergenceWarning)\n",
            "/usr/local/lib/python3.6/dist-packages/sklearn/svm/_base.py:947: ConvergenceWarning: Liblinear failed to converge, increase the number of iterations.\n",
            "  \"the number of iterations.\", ConvergenceWarning)\n",
            "/usr/local/lib/python3.6/dist-packages/sklearn/svm/_base.py:947: ConvergenceWarning: Liblinear failed to converge, increase the number of iterations.\n",
            "  \"the number of iterations.\", ConvergenceWarning)\n",
            "/usr/local/lib/python3.6/dist-packages/sklearn/svm/_base.py:947: ConvergenceWarning: Liblinear failed to converge, increase the number of iterations.\n",
            "  \"the number of iterations.\", ConvergenceWarning)\n",
            "/usr/local/lib/python3.6/dist-packages/sklearn/svm/_base.py:947: ConvergenceWarning: Liblinear failed to converge, increase the number of iterations.\n",
            "  \"the number of iterations.\", ConvergenceWarning)\n",
            "/usr/local/lib/python3.6/dist-packages/sklearn/svm/_base.py:947: ConvergenceWarning: Liblinear failed to converge, increase the number of iterations.\n",
            "  \"the number of iterations.\", ConvergenceWarning)\n",
            "/usr/local/lib/python3.6/dist-packages/sklearn/svm/_base.py:947: ConvergenceWarning: Liblinear failed to converge, increase the number of iterations.\n",
            "  \"the number of iterations.\", ConvergenceWarning)\n",
            "/usr/local/lib/python3.6/dist-packages/sklearn/svm/_base.py:947: ConvergenceWarning: Liblinear failed to converge, increase the number of iterations.\n",
            "  \"the number of iterations.\", ConvergenceWarning)\n",
            "/usr/local/lib/python3.6/dist-packages/sklearn/svm/_base.py:947: ConvergenceWarning: Liblinear failed to converge, increase the number of iterations.\n",
            "  \"the number of iterations.\", ConvergenceWarning)\n",
            "/usr/local/lib/python3.6/dist-packages/sklearn/svm/_base.py:947: ConvergenceWarning: Liblinear failed to converge, increase the number of iterations.\n",
            "  \"the number of iterations.\", ConvergenceWarning)\n",
            "/usr/local/lib/python3.6/dist-packages/sklearn/svm/_base.py:947: ConvergenceWarning: Liblinear failed to converge, increase the number of iterations.\n",
            "  \"the number of iterations.\", ConvergenceWarning)\n",
            "/usr/local/lib/python3.6/dist-packages/sklearn/svm/_base.py:947: ConvergenceWarning: Liblinear failed to converge, increase the number of iterations.\n",
            "  \"the number of iterations.\", ConvergenceWarning)\n",
            "/usr/local/lib/python3.6/dist-packages/sklearn/svm/_base.py:947: ConvergenceWarning: Liblinear failed to converge, increase the number of iterations.\n",
            "  \"the number of iterations.\", ConvergenceWarning)\n",
            "/usr/local/lib/python3.6/dist-packages/sklearn/svm/_base.py:947: ConvergenceWarning: Liblinear failed to converge, increase the number of iterations.\n",
            "  \"the number of iterations.\", ConvergenceWarning)\n",
            "/usr/local/lib/python3.6/dist-packages/sklearn/svm/_base.py:947: ConvergenceWarning: Liblinear failed to converge, increase the number of iterations.\n",
            "  \"the number of iterations.\", ConvergenceWarning)\n",
            "/usr/local/lib/python3.6/dist-packages/sklearn/svm/_base.py:947: ConvergenceWarning: Liblinear failed to converge, increase the number of iterations.\n",
            "  \"the number of iterations.\", ConvergenceWarning)\n",
            "/usr/local/lib/python3.6/dist-packages/sklearn/svm/_base.py:947: ConvergenceWarning: Liblinear failed to converge, increase the number of iterations.\n",
            "  \"the number of iterations.\", ConvergenceWarning)\n",
            "/usr/local/lib/python3.6/dist-packages/sklearn/svm/_base.py:947: ConvergenceWarning: Liblinear failed to converge, increase the number of iterations.\n",
            "  \"the number of iterations.\", ConvergenceWarning)\n",
            "/usr/local/lib/python3.6/dist-packages/sklearn/svm/_base.py:947: ConvergenceWarning: Liblinear failed to converge, increase the number of iterations.\n",
            "  \"the number of iterations.\", ConvergenceWarning)\n",
            "/usr/local/lib/python3.6/dist-packages/sklearn/svm/_base.py:947: ConvergenceWarning: Liblinear failed to converge, increase the number of iterations.\n",
            "  \"the number of iterations.\", ConvergenceWarning)\n",
            "/usr/local/lib/python3.6/dist-packages/sklearn/svm/_base.py:947: ConvergenceWarning: Liblinear failed to converge, increase the number of iterations.\n",
            "  \"the number of iterations.\", ConvergenceWarning)\n",
            "/usr/local/lib/python3.6/dist-packages/sklearn/svm/_base.py:947: ConvergenceWarning: Liblinear failed to converge, increase the number of iterations.\n",
            "  \"the number of iterations.\", ConvergenceWarning)\n",
            "/usr/local/lib/python3.6/dist-packages/sklearn/svm/_base.py:947: ConvergenceWarning: Liblinear failed to converge, increase the number of iterations.\n",
            "  \"the number of iterations.\", ConvergenceWarning)\n",
            "/usr/local/lib/python3.6/dist-packages/sklearn/svm/_base.py:947: ConvergenceWarning: Liblinear failed to converge, increase the number of iterations.\n",
            "  \"the number of iterations.\", ConvergenceWarning)\n",
            "/usr/local/lib/python3.6/dist-packages/sklearn/svm/_base.py:947: ConvergenceWarning: Liblinear failed to converge, increase the number of iterations.\n",
            "  \"the number of iterations.\", ConvergenceWarning)\n",
            "/usr/local/lib/python3.6/dist-packages/sklearn/svm/_base.py:947: ConvergenceWarning: Liblinear failed to converge, increase the number of iterations.\n",
            "  \"the number of iterations.\", ConvergenceWarning)\n"
          ],
          "name": "stderr"
        },
        {
          "output_type": "stream",
          "text": [
            "Score: 0.6\n"
          ],
          "name": "stdout"
        },
        {
          "output_type": "execute_result",
          "data": {
            "text/plain": [
              "Text(0.5, 1.0, 'XOR, linear SVC')"
            ]
          },
          "metadata": {
            "tags": []
          },
          "execution_count": 31
        },
        {
          "output_type": "display_data",
          "data": {
            "image/png": "[encoded data removed]",
            "text/plain": [
              "<Figure size 360x360 with 1 Axes>"
            ]
          },
          "metadata": {
            "tags": []
          }
        }
      ]
    },
    {
      "cell_type": "code",
      "metadata": {
        "id": "Tz-aqWQg4vqa",
        "colab_type": "code",
        "colab": {
          "base_uri": "https://localhost:8080/",
          "height": 356
        },
        "outputId": "5bd85369-f774-4177-d0b4-ac93025cb65f"
      },
      "source": [
        "y = np.logical_xor(X[:, 0] > 0, X[:, 1] > 0)\n",
        "est = GridSearchCV(svm.SVC(),                                              \n",
        "                      {'C': np.logspace(-3., 3., 10),\n",
        "                       'gamma': np.logspace(-3., 3., 10)}, cv=5)\n",
        "est.fit(X, y)\n",
        "print(\"Score: {0:.3f}\".format(\n",
        "      cv.cross_val_score(est, X, y).mean()))\n",
        "\n",
        "plot_decision_function(est.best_estimator_, X, y)\n",
        "plt.title(\"XOR, non-linear SVC\")"
      ],
      "execution_count": 32,
      "outputs": [
        {
          "output_type": "stream",
          "text": [
            "Score: 0.970\n"
          ],
          "name": "stdout"
        },
        {
          "output_type": "execute_result",
          "data": {
            "text/plain": [
              "Text(0.5, 1.0, 'XOR, non-linear SVC')"
            ]
          },
          "metadata": {
            "tags": []
          },
          "execution_count": 32
        },
        {
          "output_type": "display_data",
          "data": {
            "image/png": "[encoded data removed]",
            "text/plain": [
              "<Figure size 360x360 with 1 Axes>"
            ]
          },
          "metadata": {
            "tags": []
          }
        }
      ]
    },
    {
      "cell_type": "markdown",
      "metadata": {
        "id": "n3K6Eq8V4vqw",
        "colab_type": "text"
      },
      "source": [
        "### Applying SVM on IRIS dataset"
      ]
    },
    {
      "cell_type": "code",
      "metadata": {
        "id": "zfa6a9eh4vq9",
        "colab_type": "code",
        "colab": {
          "base_uri": "https://localhost:8080/",
          "height": 350
        },
        "outputId": "3d2012d7-2287-4761-aef8-c76605e3cb14"
      },
      "source": [
        "import pandas as pd\n",
        "import numpy as np\n",
        "from sklearn import svm, datasets\n",
        "import matplotlib.pyplot as plt\n",
        "%matplotlib inline\n",
        "\n",
        "iris = datasets.load_iris()\n",
        "X = iris.data[:,:2]\n",
        "y = iris.target\n",
        "\n",
        "# Plot resulting Support Vector boundaries with original data\n",
        "# Create fake input data for prediction that we will use for plotting\n",
        "\n",
        "# create a mesh to plot in\n",
        "x_min, x_max = X[:, 0].min() - 1, X[:, 0].max() + 1\n",
        "y_min, y_max = X[:, 1].min() - 1, X[:, 1].max() + 1\n",
        "h = (x_max / x_min)/100\n",
        "xx, yy = np.meshgrid(np.arange(x_min, x_max, h), np.arange(y_min, y_max, h))\n",
        "X_plot = np.c_[xx.ravel(), yy.ravel()]\n",
        "\n",
        "C = 1.0 \n",
        "svc = svm.SVC(kernel='linear', C=C, decision_function_shape='ovr').fit(X, y)                 \n",
        "Z = svc.predict(X_plot)                                 \n",
        "Z = Z.reshape(xx.shape)\n",
        "\n",
        "plt.figure(figsize=(15, 5))\n",
        "plt.subplot(121)\n",
        "plt.contourf(xx, yy, Z, cmap=plt.cm.Set1, alpha=0.5)\n",
        "plt.scatter(X[:, 0], X[:, 1], c=y, cmap=plt.cm.cool)\n",
        "plt.xlabel('Sepal length')\n",
        "plt.ylabel('Sepal width')\n",
        "plt.xlim(xx.min(), xx.max())\n",
        "plt.title('SVC with linear kernel')\n",
        "plt.show()"
      ],
      "execution_count": 33,
      "outputs": [
        {
          "output_type": "display_data",
          "data": {
            "image/png": "[encoded data removed]",
            "text/plain": [
              "<Figure size 1080x360 with 1 Axes>"
            ]
          },
          "metadata": {
            "tags": []
          }
        }
      ]
    },
    {
      "cell_type": "code",
      "metadata": {
        "id": "zKm2MKc14vra",
        "colab_type": "code",
        "colab": {
          "base_uri": "https://localhost:8080/",
          "height": 646
        },
        "outputId": "280255ca-0d02-43ed-dc75-2932a1c5b99c"
      },
      "source": [
        "from sklearn.model_selection import GridSearchCV\n",
        "import sklearn.model_selection as cv\n",
        "from sklearn.metrics import classification_report\n",
        "from sklearn.utils import shuffle\n",
        "\n",
        "X, y = shuffle(X, y, random_state=0)\n",
        "\n",
        "X_train, X_test, y_train, y_test = cv.train_test_split(X, y, test_size=0.25)\n",
        "\n",
        "parameters = [{'kernel': ['rbf'],\n",
        "               'gamma': [1e-4, 1e-3, 0.01, 0.1, 0.2, 0.5],\n",
        "                'C': [1, 10, 100, 1000]},\n",
        "              {'kernel': ['linear'], 'C': [1, 10, 100, 1000]}]\n",
        "\n",
        "print(\"# Tuning hyper-parameters\")\n",
        "print()\n",
        "\n",
        "clf = GridSearchCV(svm.SVC(decision_function_shape='ovr'), parameters, cv=5)                 \n",
        "clf.fit(X_train, y_train)\n",
        "\n",
        "print(\"Best parameters set found on training set:\")\n",
        "print()\n",
        "print(clf.best_params_)\n",
        "print()\n",
        "print(\"Grid scores on training set:\")\n",
        "print()\n",
        "means = clf.cv_results_['mean_test_score']\n",
        "stds = clf.cv_results_['std_test_score']\n",
        "for mean, std, params in zip(means, stds, clf.cv_results_['params']):\n",
        "    print(\"%0.3f (+/-%0.03f) for %r\"\n",
        "          % (mean, std * 2, params))\n",
        "print()"
      ],
      "execution_count": 34,
      "outputs": [
        {
          "output_type": "stream",
          "text": [
            "# Tuning hyper-parameters\n",
            "\n",
            "Best parameters set found on training set:\n",
            "\n",
            "{'C': 1000, 'gamma': 0.1, 'kernel': 'rbf'}\n",
            "\n",
            "Grid scores on training set:\n",
            "\n",
            "0.357 (+/-0.015) for {'C': 1, 'gamma': 0.0001, 'kernel': 'rbf'}\n",
            "0.357 (+/-0.015) for {'C': 1, 'gamma': 0.001, 'kernel': 'rbf'}\n",
            "0.643 (+/-0.015) for {'C': 1, 'gamma': 0.01, 'kernel': 'rbf'}\n",
            "0.777 (+/-0.114) for {'C': 1, 'gamma': 0.1, 'kernel': 'rbf'}\n",
            "0.767 (+/-0.149) for {'C': 1, 'gamma': 0.2, 'kernel': 'rbf'}\n",
            "0.794 (+/-0.124) for {'C': 1, 'gamma': 0.5, 'kernel': 'rbf'}\n",
            "0.357 (+/-0.015) for {'C': 10, 'gamma': 0.0001, 'kernel': 'rbf'}\n",
            "0.634 (+/-0.045) for {'C': 10, 'gamma': 0.001, 'kernel': 'rbf'}\n",
            "0.777 (+/-0.114) for {'C': 10, 'gamma': 0.01, 'kernel': 'rbf'}\n",
            "0.785 (+/-0.122) for {'C': 10, 'gamma': 0.1, 'kernel': 'rbf'}\n",
            "0.785 (+/-0.122) for {'C': 10, 'gamma': 0.2, 'kernel': 'rbf'}\n",
            "0.795 (+/-0.106) for {'C': 10, 'gamma': 0.5, 'kernel': 'rbf'}\n",
            "0.634 (+/-0.045) for {'C': 100, 'gamma': 0.0001, 'kernel': 'rbf'}\n",
            "0.777 (+/-0.114) for {'C': 100, 'gamma': 0.001, 'kernel': 'rbf'}\n",
            "0.786 (+/-0.104) for {'C': 100, 'gamma': 0.01, 'kernel': 'rbf'}\n",
            "0.777 (+/-0.128) for {'C': 100, 'gamma': 0.1, 'kernel': 'rbf'}\n",
            "0.795 (+/-0.106) for {'C': 100, 'gamma': 0.2, 'kernel': 'rbf'}\n",
            "0.786 (+/-0.060) for {'C': 100, 'gamma': 0.5, 'kernel': 'rbf'}\n",
            "0.777 (+/-0.114) for {'C': 1000, 'gamma': 0.0001, 'kernel': 'rbf'}\n",
            "0.786 (+/-0.104) for {'C': 1000, 'gamma': 0.001, 'kernel': 'rbf'}\n",
            "0.795 (+/-0.089) for {'C': 1000, 'gamma': 0.01, 'kernel': 'rbf'}\n",
            "0.804 (+/-0.087) for {'C': 1000, 'gamma': 0.1, 'kernel': 'rbf'}\n",
            "0.786 (+/-0.101) for {'C': 1000, 'gamma': 0.2, 'kernel': 'rbf'}\n",
            "0.677 (+/-0.116) for {'C': 1000, 'gamma': 0.5, 'kernel': 'rbf'}\n",
            "0.786 (+/-0.104) for {'C': 1, 'kernel': 'linear'}\n",
            "0.786 (+/-0.104) for {'C': 10, 'kernel': 'linear'}\n",
            "0.786 (+/-0.104) for {'C': 100, 'kernel': 'linear'}\n",
            "0.786 (+/-0.104) for {'C': 1000, 'kernel': 'linear'}\n",
            "\n"
          ],
          "name": "stdout"
        }
      ]
    },
    {
      "cell_type": "code",
      "metadata": {
        "id": "mkEwVNdZ4vrz",
        "colab_type": "code",
        "colab": {
          "base_uri": "https://localhost:8080/",
          "height": 289
        },
        "outputId": "1ae25c7c-1a36-449c-a2f6-d41422ac3a11"
      },
      "source": [
        "print(\"Detailed classification report:\")\n",
        "print()\n",
        "print(\"The model is trained on the training set.\")\n",
        "print(\"The scores are computed on the testing set.\")\n",
        "print()\n",
        "y_true, y_pred = y_test, clf.predict(X_test)\n",
        "print(classification_report(y_true, y_pred))\n",
        "print()"
      ],
      "execution_count": 36,
      "outputs": [
        {
          "output_type": "stream",
          "text": [
            "Detailed classification report:\n",
            "\n",
            "The model is trained on the training set.\n",
            "The scores are computed on the testing set.\n",
            "\n",
            "              precision    recall  f1-score   support\n",
            "\n",
            "           0       1.00      1.00      1.00        10\n",
            "           1       0.73      0.73      0.73        15\n",
            "           2       0.69      0.69      0.69        13\n",
            "\n",
            "    accuracy                           0.79        38\n",
            "   macro avg       0.81      0.81      0.81        38\n",
            "weighted avg       0.79      0.79      0.79        38\n",
            "\n",
            "\n"
          ],
          "name": "stdout"
        }
      ]
    },
    {
      "cell_type": "code",
      "metadata": {
        "id": "BlvamW0B4vsO",
        "colab_type": "code",
        "colab": {
          "base_uri": "https://localhost:8080/",
          "height": 34
        },
        "outputId": "545800cd-3547-42f6-92f4-1a5e686892da"
      },
      "source": [
        "from sklearn.metrics import accuracy_score\n",
        "accuracy_score(y_test, y_pred)"
      ],
      "execution_count": 37,
      "outputs": [
        {
          "output_type": "execute_result",
          "data": {
            "text/plain": [
              "0.7894736842105263"
            ]
          },
          "metadata": {
            "tags": []
          },
          "execution_count": 37
        }
      ]
    },
    {
      "cell_type": "markdown",
      "metadata": {
        "id": "IU7EJ93F4vsd",
        "colab_type": "text"
      },
      "source": [
        "## Exercise: SVM for Titanic Dataset"
      ]
    },
    {
      "cell_type": "code",
      "metadata": {
        "id": "2XG_6YJc4vsj",
        "colab_type": "code",
        "colab": {}
      },
      "source": [
        "# Titanic with SVM\n",
        "\n",
        "import numpy as np\n",
        "import pandas as pd\n",
        "import sklearn.svm as svm\n",
        "import sklearn.model_selection as cv\n",
        "from sklearn.model_selection import GridSearchCV\n",
        "from sklearn.metrics import classification_report\n",
        "\n",
        "# Load the dataset with Pandas\n",
        "train = pd.read_csv('titanic.csv')\n",
        "\n",
        "data = train[['Sex', 'Age', 'Pclass', 'Survived']].copy()\n",
        "data['Sex'] = data['Sex'] == 'female'\n",
        "data = data.dropna()\n",
        "\n",
        "# Create X and Y\n",
        "\n",
        "# Split the dataset \n",
        "\n",
        "# Set the parameters by cross-validation\n",
        "\n",
        "# Perform Grid Search\n",
        "\n",
        "# Fit\n",
        "\n",
        "# Display the best parameters\n",
        "\n",
        "# Predict on test data\n",
        "\n",
        "# Show the classification report"
      ],
      "execution_count": 0,
      "outputs": []
    },
    {
      "cell_type": "markdown",
      "metadata": {
        "id": "mmSAGc6p4vs4",
        "colab_type": "text"
      },
      "source": [
        "========================================================================"
      ]
    },
    {
      "cell_type": "markdown",
      "metadata": {
        "id": "ZpEMd-_74vs_",
        "colab_type": "text"
      },
      "source": [
        "# Dimensionality Reduction: Principal Component Analysis (PCA)"
      ]
    },
    {
      "cell_type": "markdown",
      "metadata": {
        "id": "HgEFUgWq4vtD",
        "colab_type": "text"
      },
      "source": [
        "## Notes\n",
        "\n",
        "**PCA Algorithm:**\n",
        "1. Standardize the data to obtain $S$.\n",
        "\n",
        "2. Obtain the Eigenvectors and Eigenvalues of $S$ via the **Covariance Matrix** method or **Singular Vector Decomposition** (SVD) method.\n",
        "\n",
        "3. Sort eigenvalues in **descending** order and choose the $k$ eigenvectors that correspond to the $k$ largest eigenvalues where $k$ is the number of dimensions of the new feature subspace ($k \\leq d$).\n",
        "\n",
        "4. Construct the projection matrix $U$ from the selected $k$ eigenvectors.\n",
        "\n",
        "5. Transform the original dataset via $U$ to obtain a $k$-dimensional feature subspace."
      ]
    },
    {
      "cell_type": "code",
      "metadata": {
        "id": "uuD7d5Xt4vtP",
        "colab_type": "code",
        "colab": {
          "base_uri": "https://localhost:8080/",
          "height": 306
        },
        "outputId": "c2f46bea-e27d-491b-8acf-61fe2fc2c91b"
      },
      "source": [
        "import numpy as np\n",
        "from sklearn.decomposition import PCA\n",
        "X = np.array([[-1, -1, 5], [-2, -1, 8], [-3, -2, 6], \n",
        "              [1, 1, 8], [2, 1, 5], [3, 2, 9]])\n",
        "print(X)\n",
        "print()\n",
        "pca = PCA(n_components=1)\n",
        "pca.fit(X)                               \n",
        "\n",
        "print(pca.components_) \n",
        "print()\n",
        "print(pca.explained_variance_ratio_)\n",
        "print()\n",
        "X_pca = pca.transform(X)\n",
        "print(X_pca)"
      ],
      "execution_count": 41,
      "outputs": [
        {
          "output_type": "stream",
          "text": [
            "[[-1 -1  5]\n",
            " [-2 -1  8]\n",
            " [-3 -2  6]\n",
            " [ 1  1  8]\n",
            " [ 2  1  5]\n",
            " [ 3  2  9]]\n",
            "\n",
            "[[0.79554567 0.53157493 0.29074936]]\n",
            "\n",
            "[0.76997386]\n",
            "\n",
            "[[-1.86016108]\n",
            " [-1.78345867]\n",
            " [-3.69207799]\n",
            " [ 1.66632818]\n",
            " [ 1.58962577]\n",
            " [ 4.0797438 ]]\n"
          ],
          "name": "stdout"
        }
      ]
    },
    {
      "cell_type": "markdown",
      "metadata": {
        "id": "8zCrhgqb4vtl",
        "colab_type": "text"
      },
      "source": [
        "### PCA on IRIS dataset"
      ]
    },
    {
      "cell_type": "code",
      "metadata": {
        "id": "-tzweY5q4vts",
        "colab_type": "code",
        "colab": {
          "base_uri": "https://localhost:8080/",
          "height": 247
        },
        "outputId": "c3e1a5cf-af4e-43c5-948f-3900f8ffca34"
      },
      "source": [
        "import sklearn.datasets as ds\n",
        "import matplotlib.pyplot as plt\n",
        "%matplotlib inline\n",
        "\n",
        "iris = ds.load_iris()\n",
        "X = iris.data\n",
        "y = iris.target\n",
        "print(X.shape)\n",
        "\n",
        "plt.figure(figsize=(6,3))\n",
        "plt.scatter(X[:,0], X[:,1], c=y, s=30, cmap=plt.cm.rainbow)"
      ],
      "execution_count": 42,
      "outputs": [
        {
          "output_type": "stream",
          "text": [
            "(150, 4)\n"
          ],
          "name": "stdout"
        },
        {
          "output_type": "execute_result",
          "data": {
            "text/plain": [
              "<matplotlib.collections.PathCollection at 0x7fc501481a20>"
            ]
          },
          "metadata": {
            "tags": []
          },
          "execution_count": 42
        },
        {
          "output_type": "display_data",
          "data": {
            "image/png": "[encoded data removed]",
            "text/plain": [
              "<Figure size 432x216 with 1 Axes>"
            ]
          },
          "metadata": {
            "tags": []
          }
        }
      ]
    },
    {
      "cell_type": "code",
      "metadata": {
        "id": "uNIc5n3G4vt5",
        "colab_type": "code",
        "colab": {
          "base_uri": "https://localhost:8080/",
          "height": 119
        },
        "outputId": "4aa7070a-b02d-4711-9592-6d4c0908a799"
      },
      "source": [
        "from sklearn.decomposition import PCA\n",
        "pca = PCA()\n",
        "\n",
        "X_pca = pca.fit_transform(X)\n",
        "\n",
        "print(pca.components_)\n",
        "print()\n",
        "print(pca.explained_variance_ratio_)"
      ],
      "execution_count": 43,
      "outputs": [
        {
          "output_type": "stream",
          "text": [
            "[[ 0.36138659 -0.08452251  0.85667061  0.3582892 ]\n",
            " [ 0.65658877  0.73016143 -0.17337266 -0.07548102]\n",
            " [-0.58202985  0.59791083  0.07623608  0.54583143]\n",
            " [-0.31548719  0.3197231   0.47983899 -0.75365743]]\n",
            "\n",
            "[0.92461872 0.05306648 0.01710261 0.00521218]\n"
          ],
          "name": "stdout"
        }
      ]
    },
    {
      "cell_type": "code",
      "metadata": {
        "id": "Kj5p3r-q4vui",
        "colab_type": "code",
        "colab": {
          "base_uri": "https://localhost:8080/",
          "height": 34
        },
        "outputId": "01b9f0ac-cfbb-4f9b-e7bf-27002fcff38e"
      },
      "source": [
        "print(X_pca.shape)"
      ],
      "execution_count": 44,
      "outputs": [
        {
          "output_type": "stream",
          "text": [
            "(150, 4)\n"
          ],
          "name": "stdout"
        }
      ]
    },
    {
      "cell_type": "code",
      "metadata": {
        "id": "xy79YbmA4vuu",
        "colab_type": "code",
        "colab": {
          "base_uri": "https://localhost:8080/",
          "height": 663
        },
        "outputId": "8cfd4186-5279-4bf1-9da6-136c923e28f1"
      },
      "source": [
        "X_pca[:,3] "
      ],
      "execution_count": 45,
      "outputs": [
        {
          "output_type": "execute_result",
          "data": {
            "text/plain": [
              "array([-2.26243707e-03, -9.90265503e-02, -1.99683897e-02,  7.55758166e-02,\n",
              "        6.12585926e-02,  2.42008576e-02,  4.81431065e-02,  4.52978706e-02,\n",
              "        2.67447358e-02,  5.62954013e-02,  1.50199245e-02,  1.56379208e-01,\n",
              "        7.88791149e-03,  2.16798118e-02, -1.59209718e-01, -6.55154587e-03,\n",
              "       -1.67734737e-01, -7.76281796e-02, -2.70518681e-02,  6.62726502e-02,\n",
              "        1.50707908e-02, -4.10654027e-02, -4.48212505e-03, -1.48352589e-01,\n",
              "        3.00330904e-01, -3.46074722e-02, -5.74497158e-02,  1.41727423e-02,\n",
              "       -6.57834667e-02,  1.23983306e-01,  6.04622767e-02, -2.31628492e-01,\n",
              "        2.81372347e-01,  9.53488583e-02, -1.90703413e-02, -1.62598446e-01,\n",
              "       -1.76441213e-01,  1.68173054e-01,  1.07331474e-02,  1.37491513e-02,\n",
              "       -9.40633590e-02, -3.19987487e-01,  7.46777682e-02, -1.76208890e-01,\n",
              "        1.82842502e-01, -1.42843574e-01,  1.89622291e-01,  5.95642283e-02,\n",
              "        4.65686438e-02, -3.46583385e-02, -1.85252879e-02, -5.66512106e-04,\n",
              "        1.65317587e-03, -9.35668402e-02, -1.12020574e-01,  2.43116767e-01,\n",
              "        8.35565724e-02,  1.79077226e-02,  3.91345020e-02,  5.61891788e-03,\n",
              "       -4.55624408e-02, -5.07192325e-02, -5.71855195e-02,  1.69496255e-01,\n",
              "       -1.25217292e-01, -9.98031365e-02,  1.87878621e-01,  2.13757370e-01,\n",
              "       -2.57192177e-01,  4.15766476e-02,  7.50315529e-02, -1.22997604e-01,\n",
              "       -8.88370584e-04,  2.88255429e-01, -4.17197556e-02, -1.00226728e-01,\n",
              "       -3.53331921e-02, -6.99692823e-02,  2.97114340e-02, -7.45696136e-02,\n",
              "       -6.83084222e-03,  2.05510016e-02, -3.29419128e-02,  1.78304463e-01,\n",
              "        2.50976060e-01,  1.14207243e-01, -3.12171829e-02, -1.54021000e-01,\n",
              "        1.46674512e-01, -2.96222195e-02,  2.69651428e-01,  1.53484666e-01,\n",
              "       -1.69303245e-02, -4.56133071e-02,  9.87414793e-02,  2.38475434e-01,\n",
              "        1.31137381e-01,  2.13776830e-02, -2.32534844e-01,  5.11811717e-02,\n",
              "        2.90555728e-02,  1.53046739e-02, -6.57720412e-02,  2.36790934e-01,\n",
              "        1.70633278e-04,  1.12371653e-01,  9.81266196e-02,  2.57191032e-01,\n",
              "        7.86746130e-02, -1.10982071e-01, -1.21040552e-01, -7.80198444e-02,\n",
              "       -1.63061478e-01, -1.40440869e-01, -3.29551728e-01, -2.19621263e-01,\n",
              "        1.57681907e-01,  3.09219573e-01, -5.38460965e-02,  4.58247549e-02,\n",
              "       -1.85429264e-01, -6.09591171e-02,  1.40227954e-01, -1.63040977e-01,\n",
              "        6.03719696e-02,  2.40704986e-01, -1.47503846e-01, -4.02660775e-03,\n",
              "       -5.28273230e-02,  2.31524053e-01,  2.23364626e-02,  2.52901923e-01,\n",
              "       -1.28193066e-01,  1.90996358e-01,  5.05434412e-01, -3.09828045e-01,\n",
              "       -5.55419691e-02,  2.21202937e-01, -2.04617872e-02, -2.10621786e-01,\n",
              "       -2.77653777e-01, -5.05304967e-01,  1.53046739e-02, -5.79127477e-02,\n",
              "       -2.41091000e-01, -4.26195940e-01, -2.54367442e-01, -1.37001274e-01,\n",
              "       -4.45953047e-02,  1.55038628e-01])"
            ]
          },
          "metadata": {
            "tags": []
          },
          "execution_count": 45
        }
      ]
    },
    {
      "cell_type": "code",
      "metadata": {
        "id": "_J_BSHxc4vvc",
        "colab_type": "code",
        "colab": {
          "base_uri": "https://localhost:8080/",
          "height": 231
        },
        "outputId": "1637d3b7-fde7-4b59-f93e-4a82baca6dbc"
      },
      "source": [
        "plt.figure(figsize=(6,3))\n",
        "plt.scatter(X_pca[:,0], X_pca[:,1], c=y, s=30, cmap=plt.cm.rainbow)"
      ],
      "execution_count": 46,
      "outputs": [
        {
          "output_type": "execute_result",
          "data": {
            "text/plain": [
              "<matplotlib.collections.PathCollection at 0x7fc5013eb208>"
            ]
          },
          "metadata": {
            "tags": []
          },
          "execution_count": 46
        },
        {
          "output_type": "display_data",
          "data": {
            "image/png": "[encoded data removed]",
            "text/plain": [
              "<Figure size 432x216 with 1 Axes>"
            ]
          },
          "metadata": {
            "tags": []
          }
        }
      ]
    },
    {
      "cell_type": "markdown",
      "metadata": {
        "id": "LV6uPoE_4vv-",
        "colab_type": "text"
      },
      "source": [
        "## Exercise: PCA on Wine Dataset"
      ]
    },
    {
      "cell_type": "code",
      "metadata": {
        "id": "lJo54iae4vwH",
        "colab_type": "code",
        "colab": {
          "base_uri": "https://localhost:8080/",
          "height": 258
        },
        "outputId": "a5ceefba-fb21-4c52-824a-aa72c2413d52"
      },
      "source": [
        "import pandas as pd\n",
        "df_wine = pd.read_csv('wine.data', header=None)\n",
        "\n",
        "df_wine.columns = ['Class label', 'Alcohol', 'Malic acid', 'Ash',\n",
        "                   'Alcalinity of ash', 'Magnesium', 'Total phenols',\n",
        "                   'Flavanoids', 'Nonflavanoid phenols', 'Proanthocyanins',\n",
        "                   'Color intensity', 'Hue', 'OD280/OD315 of diluted wines', \n",
        "                   'Proline']\n",
        "\n",
        "df_wine.head()"
      ],
      "execution_count": 48,
      "outputs": [
        {
          "output_type": "execute_result",
          "data": {
            "text/html": [
              "<div>\n",
              "<style scoped>\n",
              "    .dataframe tbody tr th:only-of-type {\n",
              "        vertical-align: middle;\n",
              "    }\n",
              "\n",
              "    .dataframe tbody tr th {\n",
              "        vertical-align: top;\n",
              "    }\n",
              "\n",
              "    .dataframe thead th {\n",
              "        text-align: right;\n",
              "    }\n",
              "</style>\n",
              "<table border=\"1\" class=\"dataframe\">\n",
              "  <thead>\n",
              "    <tr style=\"text-align: right;\">\n",
              "      <th></th>\n",
              "      <th>Class label</th>\n",
              "      <th>Alcohol</th>\n",
              "      <th>Malic acid</th>\n",
              "      <th>Ash</th>\n",
              "      <th>Alcalinity of ash</th>\n",
              "      <th>Magnesium</th>\n",
              "      <th>Total phenols</th>\n",
              "      <th>Flavanoids</th>\n",
              "      <th>Nonflavanoid phenols</th>\n",
              "      <th>Proanthocyanins</th>\n",
              "      <th>Color intensity</th>\n",
              "      <th>Hue</th>\n",
              "      <th>OD280/OD315 of diluted wines</th>\n",
              "      <th>Proline</th>\n",
              "    </tr>\n",
              "  </thead>\n",
              "  <tbody>\n",
              "    <tr>\n",
              "      <th>0</th>\n",
              "      <td>1</td>\n",
              "      <td>14.23</td>\n",
              "      <td>1.71</td>\n",
              "      <td>2.43</td>\n",
              "      <td>15.6</td>\n",
              "      <td>127</td>\n",
              "      <td>2.80</td>\n",
              "      <td>3.06</td>\n",
              "      <td>0.28</td>\n",
              "      <td>2.29</td>\n",
              "      <td>5.64</td>\n",
              "      <td>1.04</td>\n",
              "      <td>3.92</td>\n",
              "      <td>1065</td>\n",
              "    </tr>\n",
              "    <tr>\n",
              "      <th>1</th>\n",
              "      <td>1</td>\n",
              "      <td>13.20</td>\n",
              "      <td>1.78</td>\n",
              "      <td>2.14</td>\n",
              "      <td>11.2</td>\n",
              "      <td>100</td>\n",
              "      <td>2.65</td>\n",
              "      <td>2.76</td>\n",
              "      <td>0.26</td>\n",
              "      <td>1.28</td>\n",
              "      <td>4.38</td>\n",
              "      <td>1.05</td>\n",
              "      <td>3.40</td>\n",
              "      <td>1050</td>\n",
              "    </tr>\n",
              "    <tr>\n",
              "      <th>2</th>\n",
              "      <td>1</td>\n",
              "      <td>13.16</td>\n",
              "      <td>2.36</td>\n",
              "      <td>2.67</td>\n",
              "      <td>18.6</td>\n",
              "      <td>101</td>\n",
              "      <td>2.80</td>\n",
              "      <td>3.24</td>\n",
              "      <td>0.30</td>\n",
              "      <td>2.81</td>\n",
              "      <td>5.68</td>\n",
              "      <td>1.03</td>\n",
              "      <td>3.17</td>\n",
              "      <td>1185</td>\n",
              "    </tr>\n",
              "    <tr>\n",
              "      <th>3</th>\n",
              "      <td>1</td>\n",
              "      <td>14.37</td>\n",
              "      <td>1.95</td>\n",
              "      <td>2.50</td>\n",
              "      <td>16.8</td>\n",
              "      <td>113</td>\n",
              "      <td>3.85</td>\n",
              "      <td>3.49</td>\n",
              "      <td>0.24</td>\n",
              "      <td>2.18</td>\n",
              "      <td>7.80</td>\n",
              "      <td>0.86</td>\n",
              "      <td>3.45</td>\n",
              "      <td>1480</td>\n",
              "    </tr>\n",
              "    <tr>\n",
              "      <th>4</th>\n",
              "      <td>1</td>\n",
              "      <td>13.24</td>\n",
              "      <td>2.59</td>\n",
              "      <td>2.87</td>\n",
              "      <td>21.0</td>\n",
              "      <td>118</td>\n",
              "      <td>2.80</td>\n",
              "      <td>2.69</td>\n",
              "      <td>0.39</td>\n",
              "      <td>1.82</td>\n",
              "      <td>4.32</td>\n",
              "      <td>1.04</td>\n",
              "      <td>2.93</td>\n",
              "      <td>735</td>\n",
              "    </tr>\n",
              "  </tbody>\n",
              "</table>\n",
              "</div>"
            ],
            "text/plain": [
              "   Class label  Alcohol  ...  OD280/OD315 of diluted wines  Proline\n",
              "0            1    14.23  ...                          3.92     1065\n",
              "1            1    13.20  ...                          3.40     1050\n",
              "2            1    13.16  ...                          3.17     1185\n",
              "3            1    14.37  ...                          3.45     1480\n",
              "4            1    13.24  ...                          2.93      735\n",
              "\n",
              "[5 rows x 14 columns]"
            ]
          },
          "metadata": {
            "tags": []
          },
          "execution_count": 48
        }
      ]
    },
    {
      "cell_type": "code",
      "metadata": {
        "id": "gO4QWbXL4vwP",
        "colab_type": "code",
        "colab": {
          "base_uri": "https://localhost:8080/",
          "height": 34
        },
        "outputId": "4e58cd40-947b-4bf6-8c6a-bbfe395b970e"
      },
      "source": [
        "# Check the shape\n",
        "df_wine.shape"
      ],
      "execution_count": 49,
      "outputs": [
        {
          "output_type": "execute_result",
          "data": {
            "text/plain": [
              "(178, 14)"
            ]
          },
          "metadata": {
            "tags": []
          },
          "execution_count": 49
        }
      ]
    },
    {
      "cell_type": "code",
      "metadata": {
        "id": "RTQozZqb4vwj",
        "colab_type": "code",
        "colab": {
          "base_uri": "https://localhost:8080/",
          "height": 34
        },
        "outputId": "1dbf3c72-3ab9-46ed-c7fa-a39b5d67be0d"
      },
      "source": [
        "# Convert dataframe to values\n",
        "df_wine_val = df_wine.values\n",
        "df_wine_val.shape"
      ],
      "execution_count": 50,
      "outputs": [
        {
          "output_type": "execute_result",
          "data": {
            "text/plain": [
              "(178, 14)"
            ]
          },
          "metadata": {
            "tags": []
          },
          "execution_count": 50
        }
      ]
    },
    {
      "cell_type": "code",
      "metadata": {
        "id": "LouxW1yo4vw5",
        "colab_type": "code",
        "colab": {
          "base_uri": "https://localhost:8080/",
          "height": 34
        },
        "outputId": "0eb36ea9-f31c-4e35-da52-f949798edb66"
      },
      "source": [
        "np.unique(df_wine_val[:,0])"
      ],
      "execution_count": 51,
      "outputs": [
        {
          "output_type": "execute_result",
          "data": {
            "text/plain": [
              "array([1., 2., 3.])"
            ]
          },
          "metadata": {
            "tags": []
          },
          "execution_count": 51
        }
      ]
    },
    {
      "cell_type": "code",
      "metadata": {
        "id": "ikTCX4Hy4vxY",
        "colab_type": "code",
        "colab": {}
      },
      "source": [
        "# Obtain X and y\n",
        "X, y = df_wine_val[:,1:], df_wine_val[:,0]"
      ],
      "execution_count": 0,
      "outputs": []
    },
    {
      "cell_type": "code",
      "metadata": {
        "id": "QzCfBKFI4vxp",
        "colab_type": "code",
        "colab": {}
      },
      "source": [
        "# Split the data into 70% training and 30% test subsets\n",
        "import sklearn.model_selection as cv\n",
        "X_train, X_test, y_train, y_test = cv.train_test_split(X,y,\n",
        "test_size=0.3,\n",
        "stratify=y, random_state=0)"
      ],
      "execution_count": 0,
      "outputs": []
    },
    {
      "cell_type": "code",
      "metadata": {
        "id": "0p_HSho54vx2",
        "colab_type": "code",
        "colab": {}
      },
      "source": [
        "# Standardize the data using StandardScaler \n",
        "# obtain X_train_std and X_test_std\n",
        "\n",
        "from sklearn.preprocessing import StandardScaler\n",
        "\n",
        "sc = StandardScaler()\n",
        "X_train_std = sc.fit_transform(X_train)\n",
        "\n",
        "X_test_std = sc.fit_transform(X_test)"
      ],
      "execution_count": 0,
      "outputs": []
    },
    {
      "cell_type": "code",
      "metadata": {
        "id": "yTAQOCul4vyD",
        "colab_type": "code",
        "colab": {}
      },
      "source": [
        "# Apply PCA (2 components) on X_train_std \n",
        "\n",
        "from sklearn.decomposition import PCA\n",
        "\n",
        "pca = PCA(n_components=2)\n",
        "\n",
        "X_train_pca = pca.fit_transform(X_train_std)"
      ],
      "execution_count": 0,
      "outputs": []
    },
    {
      "cell_type": "code",
      "metadata": {
        "id": "wdnW8kEn4vyV",
        "colab_type": "code",
        "colab": {}
      },
      "source": [
        "# Transform X_test_std using PCA\n",
        "X_test_pca = pca.transform(X_train_std)"
      ],
      "execution_count": 0,
      "outputs": []
    },
    {
      "cell_type": "code",
      "metadata": {
        "id": "lU5pnWhI4vyn",
        "colab_type": "code",
        "colab": {
          "base_uri": "https://localhost:8080/",
          "height": 279
        },
        "outputId": "63e8cd63-d8c7-4d0b-a430-92fe438fb1f1"
      },
      "source": [
        "# Do scatter plot of the transformed data\n",
        "plt.scatter(X_train_pca[:,0], X_train_pca[:,-1])\n",
        "plt.xlabel('PC 1')\n",
        "plt.ylabel('PC 2')\n",
        "plt.show()"
      ],
      "execution_count": 57,
      "outputs": [
        {
          "output_type": "display_data",
          "data": {
            "image/png": "[encoded data removed]",
            "text/plain": [
              "<Figure size 432x288 with 1 Axes>"
            ]
          },
          "metadata": {
            "tags": []
          }
        }
      ]
    },
    {
      "cell_type": "code",
      "metadata": {
        "id": "0s0JznCW4vy0",
        "colab_type": "code",
        "colab": {
          "base_uri": "https://localhost:8080/",
          "height": 368
        },
        "outputId": "e6f7f6e4-9e6e-44b5-f45e-9b64ff95178e"
      },
      "source": [
        "# Train Logistic Regression classifier without using PCA\n",
        "\n",
        "from sklearn.linear_model import LogisticRegression\n",
        "from plot_decisionregion import *\n",
        "\n",
        "lr_no_pca = LogisticRegression(solver='lbfgs', multi_class='ovr')\n",
        "lr_no_pca = lr_no_pca.fit(X_train[:,:2],y_train)\n",
        "\n",
        "# Use lr_no_pca classifier\n",
        "plot_decision_regions(X_train[:,:2],y_train, classifier=lr_no_pca )\n",
        "plt.xlabel('Dim 1')\n",
        "plt.ylabel('Dim 2')\n",
        "plt.legend(loc='lower left')\n",
        "plt.tight_layout()\n",
        "plt.show()"
      ],
      "execution_count": 58,
      "outputs": [
        {
          "output_type": "stream",
          "text": [
            "'c' argument looks like a single numeric RGB or RGBA sequence, which should be avoided as value-mapping will have precedence in case its length matches with 'x' & 'y'.  Please use a 2-D array with a single row if you really want to specify the same RGB or RGBA value for all points.\n",
            "'c' argument looks like a single numeric RGB or RGBA sequence, which should be avoided as value-mapping will have precedence in case its length matches with 'x' & 'y'.  Please use a 2-D array with a single row if you really want to specify the same RGB or RGBA value for all points.\n",
            "'c' argument looks like a single numeric RGB or RGBA sequence, which should be avoided as value-mapping will have precedence in case its length matches with 'x' & 'y'.  Please use a 2-D array with a single row if you really want to specify the same RGB or RGBA value for all points.\n"
          ],
          "name": "stderr"
        },
        {
          "output_type": "display_data",
          "data": {
            "image/png": "[encoded data removed]",
            "text/plain": [
              "<Figure size 432x288 with 1 Axes>"
            ]
          },
          "metadata": {
            "tags": []
          }
        }
      ]
    },
    {
      "cell_type": "code",
      "metadata": {
        "id": "StUN5UgV4vzB",
        "colab_type": "code",
        "colab": {
          "base_uri": "https://localhost:8080/",
          "height": 368
        },
        "outputId": "c2deb59a-b723-4a14-cd2c-f778927830ad"
      },
      "source": [
        "# Test the model\n",
        "# Use lr_no_pca classifier\n",
        "plot_decision_regions(X_test[:,:2],y_test, classifier=lr_no_pca ) \n",
        "\n",
        "plt.xlabel('Dim 1')\n",
        "plt.ylabel('Dim 2')\n",
        "plt.legend(loc='lower left')\n",
        "plt.tight_layout()\n",
        "plt.show()"
      ],
      "execution_count": 59,
      "outputs": [
        {
          "output_type": "stream",
          "text": [
            "'c' argument looks like a single numeric RGB or RGBA sequence, which should be avoided as value-mapping will have precedence in case its length matches with 'x' & 'y'.  Please use a 2-D array with a single row if you really want to specify the same RGB or RGBA value for all points.\n",
            "'c' argument looks like a single numeric RGB or RGBA sequence, which should be avoided as value-mapping will have precedence in case its length matches with 'x' & 'y'.  Please use a 2-D array with a single row if you really want to specify the same RGB or RGBA value for all points.\n",
            "'c' argument looks like a single numeric RGB or RGBA sequence, which should be avoided as value-mapping will have precedence in case its length matches with 'x' & 'y'.  Please use a 2-D array with a single row if you really want to specify the same RGB or RGBA value for all points.\n"
          ],
          "name": "stderr"
        },
        {
          "output_type": "display_data",
          "data": {
            "image/png": "[encoded data removed]",
            "text/plain": [
              "<Figure size 432x288 with 1 Axes>"
            ]
          },
          "metadata": {
            "tags": []
          }
        }
      ]
    },
    {
      "cell_type": "code",
      "metadata": {
        "id": "BQGetVM-4vzI",
        "colab_type": "code",
        "colab": {
          "base_uri": "https://localhost:8080/",
          "height": 368
        },
        "outputId": "4c904240-d7f2-4d74-afb4-0c7f8dab34b2"
      },
      "source": [
        "# Train Logistic Regression classifier using the first 2 principal components\n",
        "\n",
        "from sklearn.linear_model import LogisticRegression\n",
        "from plot_decisionregion import *\n",
        "\n",
        "lr_pca = LogisticRegression(solver='lbfgs', multi_class='ovr')\n",
        "lr_pca = lr_no_pca.fit(X_train_pca[:,:2],y_train)\n",
        "\n",
        "plot_decision_regions(X_train_pca, y_train, classifier = lr_pca)\n",
        "plt.xlabel('PC 1')\n",
        "plt.ylabel('PC 2')\n",
        "plt.legend(loc='lower left')\n",
        "plt.tight_layout()\n",
        "plt.show()"
      ],
      "execution_count": 61,
      "outputs": [
        {
          "output_type": "stream",
          "text": [
            "'c' argument looks like a single numeric RGB or RGBA sequence, which should be avoided as value-mapping will have precedence in case its length matches with 'x' & 'y'.  Please use a 2-D array with a single row if you really want to specify the same RGB or RGBA value for all points.\n",
            "'c' argument looks like a single numeric RGB or RGBA sequence, which should be avoided as value-mapping will have precedence in case its length matches with 'x' & 'y'.  Please use a 2-D array with a single row if you really want to specify the same RGB or RGBA value for all points.\n",
            "'c' argument looks like a single numeric RGB or RGBA sequence, which should be avoided as value-mapping will have precedence in case its length matches with 'x' & 'y'.  Please use a 2-D array with a single row if you really want to specify the same RGB or RGBA value for all points.\n"
          ],
          "name": "stderr"
        },
        {
          "output_type": "display_data",
          "data": {
            "image/png": "[encoded data removed]",
            "text/plain": [
              "<Figure size 432x288 with 1 Axes>"
            ]
          },
          "metadata": {
            "tags": []
          }
        }
      ]
    },
    {
      "cell_type": "code",
      "metadata": {
        "id": "YQiUsikx4vzV",
        "colab_type": "code",
        "colab": {
          "base_uri": "https://localhost:8080/",
          "height": 368
        },
        "outputId": "bfa7a1b1-d5e5-484c-9d8e-100d6ab9e8a6"
      },
      "source": [
        "# Test the model\n",
        "from sklearn.linear_model import LogisticRegression\n",
        "plot_decision_regions(X_test[:,:2],y_test, classifier=lr_pca )               \n",
        "\n",
        "plt.xlabel('PC 1')\n",
        "plt.ylabel('PC 2')\n",
        "plt.legend(loc='lower left')\n",
        "plt.tight_layout()\n",
        "plt.show()"
      ],
      "execution_count": 63,
      "outputs": [
        {
          "output_type": "stream",
          "text": [
            "'c' argument looks like a single numeric RGB or RGBA sequence, which should be avoided as value-mapping will have precedence in case its length matches with 'x' & 'y'.  Please use a 2-D array with a single row if you really want to specify the same RGB or RGBA value for all points.\n",
            "'c' argument looks like a single numeric RGB or RGBA sequence, which should be avoided as value-mapping will have precedence in case its length matches with 'x' & 'y'.  Please use a 2-D array with a single row if you really want to specify the same RGB or RGBA value for all points.\n",
            "'c' argument looks like a single numeric RGB or RGBA sequence, which should be avoided as value-mapping will have precedence in case its length matches with 'x' & 'y'.  Please use a 2-D array with a single row if you really want to specify the same RGB or RGBA value for all points.\n"
          ],
          "name": "stderr"
        },
        {
          "output_type": "display_data",
          "data": {
            "image/png": "[encoded data removed]",
            "text/plain": [
              "<Figure size 432x288 with 1 Axes>"
            ]
          },
          "metadata": {
            "tags": []
          }
        }
      ]
    }
  ]
}